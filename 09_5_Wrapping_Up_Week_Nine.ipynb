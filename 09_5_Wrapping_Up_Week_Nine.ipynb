{
  "nbformat": 4,
  "nbformat_minor": 0,
  "metadata": {
    "colab": {
      "name": "09_5_Wrapping_Up_Week_Nine.ipynb",
      "provenance": [],
      "collapsed_sections": [],
      "authorship_tag": "ABX9TyMEZONZlywmHQfjnm9Khje9",
      "include_colab_link": true
    },
    "kernelspec": {
      "name": "python3",
      "display_name": "Python 3",
      "language": "python"
    }
  },
  "cells": [
    {
      "cell_type": "markdown",
      "metadata": {
        "id": "view-in-github",
        "colab_type": "text"
      },
      "source": [
        "<a href=\"https://colab.research.google.com/github/byui-cse/cse380-notebooks/blob/master/09_5_Wrapping_Up_Week_Nine.ipynb\" target=\"_parent\"><img src=\"https://colab.research.google.com/assets/colab-badge.svg\" alt=\"Open In Colab\"/></a>"
      ]
    },
    {
      "cell_type": "markdown",
      "metadata": {
        "id": "FtsCP4KNA_RV"
      },
      "source": [
        "# Wrapping Up Week Nine\n",
        "## Answer Selected Questions"
      ]
    },
    {
      "cell_type": "markdown",
      "metadata": {
        "id": "_bv_bzLjBA4B"
      },
      "source": [
        "### 1"
      ]
    },
    {
      "cell_type": "markdown",
      "metadata": {
        "id": "VJvk9y2wBFCe"
      },
      "source": [
        "Some of the information in this week's ponder and prove is vague. For example, \"about 89 megabytes\". Other information is very precise, like \"(5589056 bytes, to be exact)\", or the precise ratios we need to calculate. Why? Is this deliberate? To get us to think and probe and ask questions?\n",
        "\n",
        "(I got 93.48445 megabytes for the ASCII file size, BTW, not \"about 89 megabytes\".)"
      ]
    },
    {
      "cell_type": "markdown",
      "metadata": {
        "id": "2rLOxGzNCQck"
      },
      "source": [
        "#### Answer"
      ]
    },
    {
      "cell_type": "markdown",
      "metadata": {
        "id": "PtqnW13OCUKl"
      },
      "source": [
        "Nailed it! See the next question."
      ]
    },
    {
      "cell_type": "markdown",
      "metadata": {
        "id": "l8h-1TMJCad-"
      },
      "source": [
        "### 2"
      ]
    },
    {
      "cell_type": "markdown",
      "metadata": {
        "id": "A4QCCwTjCbtO"
      },
      "source": [
        "I noticed while working on the assignment that I kept getting different compression ratios than what was expected. For example, I computed the fixed-width size with this formula `floor(log2(max(gaps))) + 1` and noticed that I got the expected result when I took off the +1 at the end. However, I believe that this would be wrong. Which is right?\n"
      ]
    },
    {
      "cell_type": "markdown",
      "metadata": {
        "id": "BMZpvVdKE07u"
      },
      "source": [
        "#### Answer"
      ]
    },
    {
      "cell_type": "markdown",
      "metadata": {
        "id": "o2C547ImG3Od"
      },
      "source": [
        "Neither. The correct formula takes the ceiling of the log2 of the **number of unique gap sizes**."
      ]
    },
    {
      "cell_type": "markdown",
      "metadata": {
        "id": "WolNWUbBL_Sf"
      },
      "source": [
        "### 3"
      ]
    },
    {
      "cell_type": "markdown",
      "metadata": {
        "id": "FIEDiY9QMA-B"
      },
      "source": [
        "I think you said that every \"real prime\" is one more or one less than a multiple of 6.\n",
        "\n",
        "But 25 and 49 are both one more than a multiple of 6 and they're not prime. Is the statement you made just wrong, or did I hear it wrong?"
      ]
    },
    {
      "cell_type": "markdown",
      "metadata": {
        "id": "Lv06kAcgMEyg"
      },
      "source": [
        "#### Answer"
      ]
    },
    {
      "cell_type": "markdown",
      "metadata": {
        "id": "tlUrXLnVMGB-"
      },
      "source": [
        "Neither. The statement is correct, but beware of the fallacy of **affirming the consequent**!"
      ]
    },
    {
      "cell_type": "markdown",
      "metadata": {
        "id": "EcnNG1tNKfdO"
      },
      "source": [
        "Kyle Mueller wrote this (mostly) functional way to create the list of gaps and restore the primes from it."
      ]
    },
    {
      "cell_type": "code",
      "metadata": {
        "colab": {
          "base_uri": "https://localhost:8080/"
        },
        "id": "QgiOK54IlHy5",
        "outputId": "c3524203-2b80-4558-f6e7-a343987ea188"
      },
      "source": [
        "!pip install pyprimesieve\n",
        "import pyprimesieve\n",
        "tmp = pyprimesieve.primes_nth(10000000)\n",
        "primes = pyprimesieve.primes(tmp+1)\n",
        "gaps = [*map(lambda i:primes[i]-primes[i-1],range(1,10000000))]\n",
        "pl=[2]\n",
        "[pl.append(pl[-1] + g) for g in gaps]\n",
        "print(pl==primes)"
      ],
      "execution_count": 2,
      "outputs": [
        {
          "output_type": "stream",
          "name": "stdout",
          "text": [
            "Collecting pyprimesieve\n",
            "  Downloading pyprimesieve-0.1.6.tar.gz (34 kB)\n",
            "Using legacy 'setup.py install' for pyprimesieve, since package 'wheel' is not installed.\n",
            "Installing collected packages: pyprimesieve\n",
            "    Running setup.py install for pyprimesieve: started\n",
            "    Running setup.py install for pyprimesieve: finished with status 'error'\n",
            "    ERROR: Command errored out with exit status 1:\n",
            "     command: 'c:\\users\\jarom\\appdata\\local\\programs\\python\\python39\\python.exe' -u -c 'import sys, setuptools, tokenize; sys.argv[0] = '\"'\"'C:\\\\Users\\\\jarom\\\\AppData\\\\Local\\\\Temp\\\\pip-install-kpjnyei9\\\\pyprimesieve_a07f46ba10f0448381a82938c01759e1\\\\setup.py'\"'\"'; __file__='\"'\"'C:\\\\Users\\\\jarom\\\\AppData\\\\Local\\\\Temp\\\\pip-install-kpjnyei9\\\\pyprimesieve_a07f46ba10f0448381a82938c01759e1\\\\setup.py'\"'\"';f=getattr(tokenize, '\"'\"'open'\"'\"', open)(__file__);code=f.read().replace('\"'\"'\\r\\n'\"'\"', '\"'\"'\\n'\"'\"');f.close();exec(compile(code, __file__, '\"'\"'exec'\"'\"'))' install --record 'C:\\Users\\jarom\\AppData\\Local\\Temp\\pip-record-foxvw0q8\\install-record.txt' --single-version-externally-managed --compile --install-headers 'c:\\users\\jarom\\appdata\\local\\programs\\python\\python39\\Include\\pyprimesieve'\n",
            "         cwd: C:\\Users\\jarom\\AppData\\Local\\Temp\\pip-install-kpjnyei9\\pyprimesieve_a07f46ba10f0448381a82938c01759e1\\\n",
            "    Complete output (128 lines):\n",
            "    running install\n",
            "    running build\n",
            "    running build_ext\n",
            "    building 'pyprimesieve' extension\n",
            "    ***************************************************************************\n",
            "    Microsoft Visual C++ 14.0 is required. Get it with \"Build Tools for Visual Studio\": https://visualstudio.microsoft.com/downloads/\n",
            "    WARNING: pyprimesieve could not be compiled using OpenMP flags.\n",
            "    Failure information, if any, is above.\n",
            "    Retrying the build without OpenMP support now.\n",
            "    ***************************************************************************\n",
            "    running install\n",
            "    running build\n",
            "    running build_ext\n",
            "    building 'pyprimesieve' extension\n",
            "    Traceback (most recent call last):\n",
            "      File \"C:\\Users\\jarom\\AppData\\Local\\Temp\\pip-install-kpjnyei9\\pyprimesieve_a07f46ba10f0448381a82938c01759e1\\setup.py\", line 42, in build_extension\n",
            "        build_ext.build_extension(self, ext)\n",
            "      File \"c:\\users\\jarom\\appdata\\local\\programs\\python\\python39\\lib\\distutils\\command\\build_ext.py\", line 529, in build_extension\n",
            "        objects = self.compiler.compile(sources,\n",
            "      File \"c:\\users\\jarom\\appdata\\local\\programs\\python\\python39\\lib\\distutils\\_msvccompiler.py\", line 323, in compile\n",
            "        self.initialize()\n",
            "      File \"c:\\users\\jarom\\appdata\\local\\programs\\python\\python39\\lib\\distutils\\_msvccompiler.py\", line 220, in initialize\n",
            "        vc_env = _get_vc_env(plat_spec)\n",
            "      File \"c:\\users\\jarom\\appdata\\local\\programs\\python\\python39\\lib\\site-packages\\setuptools\\msvc.py\", line 314, in msvc14_get_vc_env\n",
            "        return _msvc14_get_vc_env(plat_spec)\n",
            "      File \"c:\\users\\jarom\\appdata\\local\\programs\\python\\python39\\lib\\site-packages\\setuptools\\msvc.py\", line 268, in _msvc14_get_vc_env\n",
            "        raise distutils.errors.DistutilsPlatformError(\n",
            "    distutils.errors.DistutilsPlatformError: Microsoft Visual C++ 14.0 is required. Get it with \"Build Tools for Visual Studio\": https://visualstudio.microsoft.com/downloads/\n",
            "    \n",
            "    During handling of the above exception, another exception occurred:\n",
            "    \n",
            "    Traceback (most recent call last):\n",
            "      File \"C:\\Users\\jarom\\AppData\\Local\\Temp\\pip-install-kpjnyei9\\pyprimesieve_a07f46ba10f0448381a82938c01759e1\\setup.py\", line 114, in <module>\n",
            "        run_setup(True)\n",
            "      File \"C:\\Users\\jarom\\AppData\\Local\\Temp\\pip-install-kpjnyei9\\pyprimesieve_a07f46ba10f0448381a82938c01759e1\\setup.py\", line 83, in run_setup\n",
            "        setup(\n",
            "      File \"c:\\users\\jarom\\appdata\\local\\programs\\python\\python39\\lib\\site-packages\\setuptools\\__init__.py\", line 165, in setup\n",
            "        return distutils.core.setup(**attrs)\n",
            "      File \"c:\\users\\jarom\\appdata\\local\\programs\\python\\python39\\lib\\distutils\\core.py\", line 148, in setup\n",
            "        dist.run_commands()\n",
            "      File \"c:\\users\\jarom\\appdata\\local\\programs\\python\\python39\\lib\\distutils\\dist.py\", line 966, in run_commands\n",
            "        self.run_command(cmd)\n",
            "      File \"c:\\users\\jarom\\appdata\\local\\programs\\python\\python39\\lib\\distutils\\dist.py\", line 985, in run_command\n",
            "        cmd_obj.run()\n",
            "      File \"c:\\users\\jarom\\appdata\\local\\programs\\python\\python39\\lib\\site-packages\\setuptools\\command\\install.py\", line 61, in run\n",
            "        return orig.install.run(self)\n",
            "      File \"c:\\users\\jarom\\appdata\\local\\programs\\python\\python39\\lib\\distutils\\command\\install.py\", line 546, in run\n",
            "        self.run_command('build')\n",
            "      File \"c:\\users\\jarom\\appdata\\local\\programs\\python\\python39\\lib\\distutils\\cmd.py\", line 313, in run_command\n",
            "        self.distribution.run_command(command)\n",
            "      File \"c:\\users\\jarom\\appdata\\local\\programs\\python\\python39\\lib\\distutils\\dist.py\", line 985, in run_command\n",
            "        cmd_obj.run()\n",
            "      File \"c:\\users\\jarom\\appdata\\local\\programs\\python\\python39\\lib\\distutils\\command\\build.py\", line 135, in run\n",
            "        self.run_command(cmd_name)\n",
            "      File \"c:\\users\\jarom\\appdata\\local\\programs\\python\\python39\\lib\\distutils\\cmd.py\", line 313, in run_command\n",
            "        self.distribution.run_command(command)\n",
            "      File \"c:\\users\\jarom\\appdata\\local\\programs\\python\\python39\\lib\\distutils\\dist.py\", line 985, in run_command\n",
            "        cmd_obj.run()\n",
            "      File \"C:\\Users\\jarom\\AppData\\Local\\Temp\\pip-install-kpjnyei9\\pyprimesieve_a07f46ba10f0448381a82938c01759e1\\setup.py\", line 36, in run\n",
            "        build_ext.run(self)\n",
            "      File \"c:\\users\\jarom\\appdata\\local\\programs\\python\\python39\\lib\\distutils\\command\\build_ext.py\", line 340, in run\n",
            "        self.build_extensions()\n",
            "      File \"c:\\users\\jarom\\appdata\\local\\programs\\python\\python39\\lib\\distutils\\command\\build_ext.py\", line 449, in build_extensions\n",
            "        self._build_extensions_serial()\n",
            "      File \"c:\\users\\jarom\\appdata\\local\\programs\\python\\python39\\lib\\distutils\\command\\build_ext.py\", line 474, in _build_extensions_serial\n",
            "        self.build_extension(ext)\n",
            "      File \"C:\\Users\\jarom\\AppData\\Local\\Temp\\pip-install-kpjnyei9\\pyprimesieve_a07f46ba10f0448381a82938c01759e1\\setup.py\", line 44, in build_extension\n",
            "        raise BuildFailed()\n",
            "    __main__.BuildFailed\n",
            "    \n",
            "    During handling of the above exception, another exception occurred:\n",
            "    \n",
            "    Traceback (most recent call last):\n",
            "      File \"C:\\Users\\jarom\\AppData\\Local\\Temp\\pip-install-kpjnyei9\\pyprimesieve_a07f46ba10f0448381a82938c01759e1\\setup.py\", line 42, in build_extension\n",
            "        build_ext.build_extension(self, ext)\n",
            "      File \"c:\\users\\jarom\\appdata\\local\\programs\\python\\python39\\lib\\distutils\\command\\build_ext.py\", line 529, in build_extension\n",
            "        objects = self.compiler.compile(sources,\n",
            "      File \"c:\\users\\jarom\\appdata\\local\\programs\\python\\python39\\lib\\distutils\\_msvccompiler.py\", line 323, in compile\n",
            "        self.initialize()\n",
            "      File \"c:\\users\\jarom\\appdata\\local\\programs\\python\\python39\\lib\\distutils\\_msvccompiler.py\", line 220, in initialize\n",
            "        vc_env = _get_vc_env(plat_spec)\n",
            "      File \"c:\\users\\jarom\\appdata\\local\\programs\\python\\python39\\lib\\site-packages\\setuptools\\msvc.py\", line 314, in msvc14_get_vc_env\n",
            "        return _msvc14_get_vc_env(plat_spec)\n",
            "      File \"c:\\users\\jarom\\appdata\\local\\programs\\python\\python39\\lib\\site-packages\\setuptools\\msvc.py\", line 268, in _msvc14_get_vc_env\n",
            "        raise distutils.errors.DistutilsPlatformError(\n",
            "    distutils.errors.DistutilsPlatformError: Microsoft Visual C++ 14.0 is required. Get it with \"Build Tools for Visual Studio\": https://visualstudio.microsoft.com/downloads/\n",
            "    \n",
            "    During handling of the above exception, another exception occurred:\n",
            "    \n",
            "    Traceback (most recent call last):\n",
            "      File \"<string>\", line 1, in <module>\n",
            "      File \"C:\\Users\\jarom\\AppData\\Local\\Temp\\pip-install-kpjnyei9\\pyprimesieve_a07f46ba10f0448381a82938c01759e1\\setup.py\", line 124, in <module>\n",
            "        run_setup(False)\n",
            "      File \"C:\\Users\\jarom\\AppData\\Local\\Temp\\pip-install-kpjnyei9\\pyprimesieve_a07f46ba10f0448381a82938c01759e1\\setup.py\", line 83, in run_setup\n",
            "        setup(\n",
            "      File \"c:\\users\\jarom\\appdata\\local\\programs\\python\\python39\\lib\\site-packages\\setuptools\\__init__.py\", line 165, in setup\n",
            "        return distutils.core.setup(**attrs)\n",
            "      File \"c:\\users\\jarom\\appdata\\local\\programs\\python\\python39\\lib\\distutils\\core.py\", line 148, in setup\n",
            "        dist.run_commands()\n",
            "      File \"c:\\users\\jarom\\appdata\\local\\programs\\python\\python39\\lib\\distutils\\dist.py\", line 966, in run_commands\n",
            "        self.run_command(cmd)\n",
            "      File \"c:\\users\\jarom\\appdata\\local\\programs\\python\\python39\\lib\\distutils\\dist.py\", line 985, in run_command\n",
            "        cmd_obj.run()\n",
            "      File \"c:\\users\\jarom\\appdata\\local\\programs\\python\\python39\\lib\\site-packages\\setuptools\\command\\install.py\", line 61, in run\n",
            "        return orig.install.run(self)\n",
            "      File \"c:\\users\\jarom\\appdata\\local\\programs\\python\\python39\\lib\\distutils\\command\\install.py\", line 546, in run\n",
            "        self.run_command('build')\n",
            "      File \"c:\\users\\jarom\\appdata\\local\\programs\\python\\python39\\lib\\distutils\\cmd.py\", line 313, in run_command\n",
            "        self.distribution.run_command(command)\n",
            "      File \"c:\\users\\jarom\\appdata\\local\\programs\\python\\python39\\lib\\distutils\\dist.py\", line 985, in run_command\n",
            "        cmd_obj.run()\n",
            "      File \"c:\\users\\jarom\\appdata\\local\\programs\\python\\python39\\lib\\distutils\\command\\build.py\", line 135, in run\n",
            "        self.run_command(cmd_name)\n",
            "      File \"c:\\users\\jarom\\appdata\\local\\programs\\python\\python39\\lib\\distutils\\cmd.py\", line 313, in run_command\n",
            "        self.distribution.run_command(command)\n",
            "      File \"c:\\users\\jarom\\appdata\\local\\programs\\python\\python39\\lib\\distutils\\dist.py\", line 985, in run_command\n",
            "        cmd_obj.run()\n",
            "      File \"C:\\Users\\jarom\\AppData\\Local\\Temp\\pip-install-kpjnyei9\\pyprimesieve_a07f46ba10f0448381a82938c01759e1\\setup.py\", line 36, in run\n",
            "        build_ext.run(self)\n",
            "      File \"c:\\users\\jarom\\appdata\\local\\programs\\python\\python39\\lib\\distutils\\command\\build_ext.py\", line 340, in run\n",
            "        self.build_extensions()\n",
            "      File \"c:\\users\\jarom\\appdata\\local\\programs\\python\\python39\\lib\\distutils\\command\\build_ext.py\", line 449, in build_extensions\n",
            "        self._build_extensions_serial()\n",
            "      File \"c:\\users\\jarom\\appdata\\local\\programs\\python\\python39\\lib\\distutils\\command\\build_ext.py\", line 474, in _build_extensions_serial\n",
            "        self.build_extension(ext)\n",
            "      File \"C:\\Users\\jarom\\AppData\\Local\\Temp\\pip-install-kpjnyei9\\pyprimesieve_a07f46ba10f0448381a82938c01759e1\\setup.py\", line 44, in build_extension\n",
            "        raise BuildFailed()\n",
            "    __main__.BuildFailed\n",
            "    ----------------------------------------\n",
            "ERROR: Command errored out with exit status 1: 'c:\\users\\jarom\\appdata\\local\\programs\\python\\python39\\python.exe' -u -c 'import sys, setuptools, tokenize; sys.argv[0] = '\"'\"'C:\\\\Users\\\\jarom\\\\AppData\\\\Local\\\\Temp\\\\pip-install-kpjnyei9\\\\pyprimesieve_a07f46ba10f0448381a82938c01759e1\\\\setup.py'\"'\"'; __file__='\"'\"'C:\\\\Users\\\\jarom\\\\AppData\\\\Local\\\\Temp\\\\pip-install-kpjnyei9\\\\pyprimesieve_a07f46ba10f0448381a82938c01759e1\\\\setup.py'\"'\"';f=getattr(tokenize, '\"'\"'open'\"'\"', open)(__file__);code=f.read().replace('\"'\"'\\r\\n'\"'\"', '\"'\"'\\n'\"'\"');f.close();exec(compile(code, __file__, '\"'\"'exec'\"'\"'))' install --record 'C:\\Users\\jarom\\AppData\\Local\\Temp\\pip-record-foxvw0q8\\install-record.txt' --single-version-externally-managed --compile --install-headers 'c:\\users\\jarom\\appdata\\local\\programs\\python\\python39\\Include\\pyprimesieve' Check the logs for full command output.\n"
          ]
        },
        {
          "output_type": "error",
          "ename": "ModuleNotFoundError",
          "evalue": "No module named 'pyprimesieve'",
          "traceback": [
            "\u001b[1;31m---------------------------------------------------------------------------\u001b[0m",
            "\u001b[1;31mModuleNotFoundError\u001b[0m                       Traceback (most recent call last)",
            "\u001b[1;32m<ipython-input-2-cae9cd01a40c>\u001b[0m in \u001b[0;36m<module>\u001b[1;34m\u001b[0m\n\u001b[0;32m      1\u001b[0m \u001b[0mget_ipython\u001b[0m\u001b[1;33m(\u001b[0m\u001b[1;33m)\u001b[0m\u001b[1;33m.\u001b[0m\u001b[0msystem\u001b[0m\u001b[1;33m(\u001b[0m\u001b[1;34m'pip install pyprimesieve'\u001b[0m\u001b[1;33m)\u001b[0m\u001b[1;33m\u001b[0m\u001b[1;33m\u001b[0m\u001b[0m\n\u001b[1;32m----> 2\u001b[1;33m \u001b[1;32mimport\u001b[0m \u001b[0mpyprimesieve\u001b[0m\u001b[1;33m\u001b[0m\u001b[1;33m\u001b[0m\u001b[0m\n\u001b[0m\u001b[0;32m      3\u001b[0m \u001b[0mtmp\u001b[0m \u001b[1;33m=\u001b[0m \u001b[0mpyprimesieve\u001b[0m\u001b[1;33m.\u001b[0m\u001b[0mprimes_nth\u001b[0m\u001b[1;33m(\u001b[0m\u001b[1;36m10000000\u001b[0m\u001b[1;33m)\u001b[0m\u001b[1;33m\u001b[0m\u001b[1;33m\u001b[0m\u001b[0m\n\u001b[0;32m      4\u001b[0m \u001b[0mprimes\u001b[0m \u001b[1;33m=\u001b[0m \u001b[0mpyprimesieve\u001b[0m\u001b[1;33m.\u001b[0m\u001b[0mprimes\u001b[0m\u001b[1;33m(\u001b[0m\u001b[0mtmp\u001b[0m\u001b[1;33m+\u001b[0m\u001b[1;36m1\u001b[0m\u001b[1;33m)\u001b[0m\u001b[1;33m\u001b[0m\u001b[1;33m\u001b[0m\u001b[0m\n\u001b[0;32m      5\u001b[0m \u001b[0mgaps\u001b[0m \u001b[1;33m=\u001b[0m \u001b[1;33m[\u001b[0m\u001b[1;33m*\u001b[0m\u001b[0mmap\u001b[0m\u001b[1;33m(\u001b[0m\u001b[1;32mlambda\u001b[0m \u001b[0mi\u001b[0m\u001b[1;33m:\u001b[0m\u001b[0mprimes\u001b[0m\u001b[1;33m[\u001b[0m\u001b[0mi\u001b[0m\u001b[1;33m]\u001b[0m\u001b[1;33m-\u001b[0m\u001b[0mprimes\u001b[0m\u001b[1;33m[\u001b[0m\u001b[0mi\u001b[0m\u001b[1;33m-\u001b[0m\u001b[1;36m1\u001b[0m\u001b[1;33m]\u001b[0m\u001b[1;33m,\u001b[0m\u001b[0mrange\u001b[0m\u001b[1;33m(\u001b[0m\u001b[1;36m1\u001b[0m\u001b[1;33m,\u001b[0m\u001b[1;36m10000000\u001b[0m\u001b[1;33m)\u001b[0m\u001b[1;33m)\u001b[0m\u001b[1;33m]\u001b[0m\u001b[1;33m\u001b[0m\u001b[1;33m\u001b[0m\u001b[0m\n",
            "\u001b[1;31mModuleNotFoundError\u001b[0m: No module named 'pyprimesieve'"
          ]
        }
      ]
    },
    {
      "cell_type": "markdown",
      "metadata": {
        "id": "9K0CfRNVKtlu"
      },
      "source": [
        "## Be careful of coincidences!"
      ]
    },
    {
      "cell_type": "code",
      "metadata": {
        "colab": {
          "base_uri": "https://localhost:8080/"
        },
        "id": "ugU-OzlBHwh6",
        "outputId": "d2a73d68-54a8-46c9-899e-734bae1bb536"
      },
      "source": [
        "from math import floor, log2\n",
        "floor(log2(max(gaps))) + 1"
      ],
      "execution_count": null,
      "outputs": [
        {
          "output_type": "execute_result",
          "data": {
            "text/plain": [
              "8"
            ]
          },
          "metadata": {
            "tags": []
          },
          "execution_count": 10
        }
      ]
    },
    {
      "cell_type": "code",
      "metadata": {
        "colab": {
          "base_uri": "https://localhost:8080/"
        },
        "id": "6EnS6QGoQ_-O",
        "outputId": "226950c5-45d7-477c-acfe-4a03f104500e"
      },
      "source": [
        "max(gaps)"
      ],
      "execution_count": null,
      "outputs": [
        {
          "output_type": "execute_result",
          "data": {
            "text/plain": [
              "222"
            ]
          },
          "metadata": {
            "tags": []
          },
          "execution_count": 12
        }
      ]
    },
    {
      "cell_type": "code",
      "metadata": {
        "colab": {
          "base_uri": "https://localhost:8080/"
        },
        "id": "JeET7w7NROJD",
        "outputId": "2fbc4828-8c0e-4985-9def-5071e0d9393c"
      },
      "source": [
        "from math import ceil\n",
        "ceil(log2(len(set(gaps))))"
      ],
      "execution_count": null,
      "outputs": [
        {
          "output_type": "execute_result",
          "data": {
            "text/plain": [
              "7"
            ]
          },
          "metadata": {
            "tags": []
          },
          "execution_count": 16
        }
      ]
    },
    {
      "cell_type": "code",
      "metadata": {
        "colab": {
          "base_uri": "https://localhost:8080/"
        },
        "id": "o0gorcnTTJp8",
        "outputId": "1423591d-33f7-45b1-df66-f410b299505b"
      },
      "source": [
        "# 1K = 1024 bytes, 1M = 2 ** 20\n",
        "2 ** 20\n",
        "# 93.48445"
      ],
      "execution_count": null,
      "outputs": [
        {
          "output_type": "execute_result",
          "data": {
            "text/plain": [
              "1048576"
            ]
          },
          "metadata": {
            "tags": []
          },
          "execution_count": 18
        }
      ]
    },
    {
      "cell_type": "code",
      "metadata": {
        "colab": {
          "base_uri": "https://localhost:8080/"
        },
        "id": "_GfBHytoTcIW",
        "outputId": "a3d37ea7-caf6-4d5b-8048-98056bbc556e"
      },
      "source": [
        "len(primes)"
      ],
      "execution_count": null,
      "outputs": [
        {
          "output_type": "execute_result",
          "data": {
            "text/plain": [
              "10000000"
            ]
          },
          "metadata": {
            "tags": []
          },
          "execution_count": 19
        }
      ]
    },
    {
      "cell_type": "code",
      "metadata": {
        "id": "DlKiDwSLT_JW"
      },
      "source": [
        "from math import log10\n",
        "\n",
        "def get_num_digits(n):\n",
        "  return len(str(n))\n",
        "\n",
        "def get_num_digits_no_str(n):\n",
        "  return floor(log10(n)) + 1\n",
        "\n",
        "def get_line_size(n):\n",
        "  return get_num_digits_no_str(n) + 1"
      ],
      "execution_count": null,
      "outputs": []
    },
    {
      "cell_type": "code",
      "metadata": {
        "id": "vgbKcWJfUJP_"
      },
      "source": [
        "total_size_in_digits = sum(map(lambda p: get_num_digits_no_str(p), primes))"
      ],
      "execution_count": null,
      "outputs": []
    },
    {
      "cell_type": "code",
      "metadata": {
        "colab": {
          "base_uri": "https://localhost:8080/"
        },
        "id": "EIFgXUBwV6Kf",
        "outputId": "ee92c448-7dce-45a5-c33f-6745e553688d"
      },
      "source": [
        "total_size_in_bits = total_size_in_digits * 8\n",
        "(total_size_in_digits + 10 ** 7) / 2 ** 20"
      ],
      "execution_count": null,
      "outputs": [
        {
          "output_type": "execute_result",
          "data": {
            "text/plain": [
              "89.15371894836426"
            ]
          },
          "metadata": {
            "tags": []
          },
          "execution_count": 37
        }
      ]
    }
  ]
}