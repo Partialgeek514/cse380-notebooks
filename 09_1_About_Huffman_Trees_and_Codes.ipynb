{
  "nbformat": 4,
  "nbformat_minor": 0,
  "metadata": {
    "colab": {
      "name": "Copy of 09_1_About_Huffman_Trees_and_Codes.ipynb",
      "provenance": [],
      "collapsed_sections": []
    },
    "kernelspec": {
      "name": "python3",
      "display_name": "Python 3"
    }
  },
  "cells": [
    {
      "cell_type": "markdown",
      "metadata": {
        "id": "VPy5vbgRQBMQ"
      },
      "source": [
        "# About Huffman Trees and Codes\n",
        "## Divide Pair Conquer\n",
        "### Due: Monday, 1 March 2021, 11:59 pm"
      ]
    },
    {
      "cell_type": "markdown",
      "metadata": {
        "id": "sgaSqpkyQMwl"
      },
      "source": [
        "## Goal"
      ]
    },
    {
      "cell_type": "markdown",
      "metadata": {
        "id": "_YpNGyjWQbVx"
      },
      "source": [
        "Review Huffman Trees and Codes from DM1 to get ready for your Ponder and Prove assignment."
      ]
    },
    {
      "cell_type": "code",
      "metadata": {
        "id": "7C-ClNTHQkFw",
        "colab": {
          "base_uri": "https://localhost:8080/"
        },
        "outputId": "0f01c565-7644-45ee-836b-bfbb8d2784b5"
      },
      "source": [
        "from math import ceil, log\n",
        "from collections import Counter\n",
        "\n",
        "def show_results(message, code_tuples):\n",
        "  total_characters = len(message)\n",
        "  total_unique_characters = len(code_tuples)\n",
        "  total_bits = 0\n",
        "  for char, count, code in code_tuples:\n",
        "    total_bits += count * len(code)\n",
        "  average_bits_per_character = total_bits / total_characters\n",
        "  fixed_bits_per_character = ceil(log(total_unique_characters, 2))\n",
        "  total_fixed_bits = total_characters * fixed_bits_per_character\n",
        "  compression_ratio = (total_fixed_bits - total_bits) / total_fixed_bits\n",
        "  print(f'          Total Characters: {total_characters}')\n",
        "  print(f'   Total Unique Characters: {total_unique_characters}')\n",
        "  print(f'                Total Bits: {total_bits}')\n",
        "  print(f'Average Bits per Character: {average_bits_per_character:.2f}')\n",
        "  print(f'  Fixed Bits per Character: {fixed_bits_per_character}')\n",
        "  print(f'          Total Fixed Bits: {total_fixed_bits}')\n",
        "  print(f'         Compression Ratio: {compression_ratio:.3f}')\n",
        "\n",
        "message1 = 'thebookofmormon'\n",
        "counter1 = Counter(message1)\n",
        "\n",
        "print(message1, '-->', counter1)\n",
        "\n",
        "message2 = 'therestoration'\n",
        "\n",
        "counter2 = Counter(message2)\n",
        "\n",
        "print(message2, '-->', counter2)"
      ],
      "execution_count": 3,
      "outputs": [
        {
          "output_type": "stream",
          "text": [
            "thebookofmormon --> Counter({'o': 5, 'm': 2, 't': 1, 'h': 1, 'e': 1, 'b': 1, 'k': 1, 'f': 1, 'r': 1, 'n': 1})\n",
            "therestoration --> Counter({'t': 3, 'e': 2, 'r': 2, 'o': 2, 'h': 1, 's': 1, 'a': 1, 'i': 1, 'n': 1})\n"
          ],
          "name": "stdout"
        }
      ]
    },
    {
      "cell_type": "markdown",
      "metadata": {
        "id": "YnsvrdQkRZIP"
      },
      "source": [
        "### Which message has the lower compression ratio?"
      ]
    },
    {
      "cell_type": "markdown",
      "metadata": {
        "id": "ZQZ9qfo-RgDB"
      },
      "source": [
        "#### Message 1"
      ]
    },
    {
      "cell_type": "markdown",
      "metadata": {
        "id": "66pMEoO_Rkb3"
      },
      "source": [
        "Do all the steps, like the examples in the book, first sorting the counted occurrences:\n",
        "\n",
        "| Char | # |\n",
        "|------|---|\n",
        "|   b  | 1 |\n",
        "|   e  | 1 |\n",
        "|   f  | 1 |\n",
        "|   h  | 1 |\n",
        "|   k  | 1 |\n",
        "|   n  | 1 |\n",
        "|   r  | 1 |\n",
        "|   t  | 1 |\n",
        "|   m  | 2 |\n",
        "|   o  | 5 |"
      ]
    },
    {
      "cell_type": "markdown",
      "metadata": {
        "id": "Sf-Wc2SvSMvh"
      },
      "source": [
        "##### The ever-shrinking queue:"
      ]
    },
    {
      "cell_type": "markdown",
      "metadata": {
        "id": "1NVAHiTySQUZ"
      },
      "source": [
        "* b1 e1 f1 h1 k1 n1 r1 t1 m2 o5\n",
        "* f1 h1 k1 n1 r1 t1 m2 be2 o5\n",
        "* k1 n1 r1 t1 m2 be2 fh2 o5\n",
        "* r1 t1 m2 be2 fh2 kn2 o5\n",
        "* m2 be2 fh2 kn2 rt2 o5\n",
        "* fh2 kn2 rt2 mbe4 o5\n",
        "* rt2 meb4 fhkn4 o5\n",
        "* fhkn4 o5 rtmeb6\n",
        "* rtmbe6 fhkno9\n",
        "* rtmbefhkno15"
      ]
    },
    {
      "cell_type": "markdown",
      "metadata": {
        "id": "FQ542b55SnRo"
      },
      "source": [
        "##### The Huffman Tree:"
      ]
    },
    {
      "cell_type": "code",
      "metadata": {
        "id": "JEatqgo2S2GS"
      },
      "source": [
        "'''\n",
        "       rtmbefhkno15\n",
        "         /        \\\n",
        "     rtmbe6      fhkno9\n",
        "     /   \\        /    \\\n",
        "  rt2   mbe4   fhkn4   o5\n",
        "  /\\    / \\     /   \\\n",
        "r1 t1 m2 be2  fh2   kn2\n",
        "         / \\  / \\   / \\\n",
        "       b1 e1 f1 h1 k1 n1\n",
        "'''"
      ],
      "execution_count": null,
      "outputs": []
    },
    {
      "cell_type": "markdown",
      "metadata": {
        "id": "Zz3k9BfdSqMh"
      },
      "source": [
        "##### The Code Tuples"
      ]
    },
    {
      "cell_type": "markdown",
      "metadata": {
        "id": "k8NwLvJzTzOd"
      },
      "source": [
        "Read the codes from the tree:"
      ]
    },
    {
      "cell_type": "code",
      "metadata": {
        "colab": {
          "base_uri": "https://localhost:8080/",
          "height": 201
        },
        "id": "7dT6TB3MS7wY",
        "outputId": "a043e5dc-c353-44e4-c7ab-8f0e08035c51"
      },
      "source": [
        "message1_code_tuples = \\\n",
        "[('b', 1, '0110'),\n",
        " ('e', 1, '0111'),\n",
        " ('f', 1, '1000'),\n",
        " ('h', 1, '1001'),\n",
        " ('k', 1, '1010'),\n",
        " ('m', 2, '010'),\n",
        " ('n', 1, '1011'),\n",
        " ('o', 5, '11'),\n",
        " ('r', 1, '000'),\n",
        " ('t', 1, '001'),\n",
        "]\n",
        "\n",
        "show_results(message1, message1_code_tuples)"
      ],
      "execution_count": 2,
      "outputs": [
        {
          "output_type": "error",
          "ename": "NameError",
          "evalue": "ignored",
          "traceback": [
            "\u001b[0;31m---------------------------------------------------------------------------\u001b[0m",
            "\u001b[0;31mNameError\u001b[0m                                 Traceback (most recent call last)",
            "\u001b[0;32m<ipython-input-2-b6b21c461782>\u001b[0m in \u001b[0;36m<module>\u001b[0;34m()\u001b[0m\n\u001b[1;32m     11\u001b[0m ]\n\u001b[1;32m     12\u001b[0m \u001b[0;34m\u001b[0m\u001b[0m\n\u001b[0;32m---> 13\u001b[0;31m \u001b[0mshow_results\u001b[0m\u001b[0;34m(\u001b[0m\u001b[0mmessage1\u001b[0m\u001b[0;34m,\u001b[0m \u001b[0mmessage1_code_tuples\u001b[0m\u001b[0;34m)\u001b[0m\u001b[0;34m\u001b[0m\u001b[0;34m\u001b[0m\u001b[0m\n\u001b[0m",
            "\u001b[0;31mNameError\u001b[0m: name 'show_results' is not defined"
          ]
        }
      ]
    },
    {
      "cell_type": "markdown",
      "metadata": {
        "id": "EekOyNAyVbY3"
      },
      "source": [
        "#### Message 2"
      ]
    },
    {
      "cell_type": "markdown",
      "metadata": {
        "id": "5ktqJRmOVbY3"
      },
      "source": [
        "Do all the steps, like the examples in the book, first sorting the counted occurrences:\n",
        "\n",
        "| Char | # |\n",
        "|------|---|\n",
        "|   a  | 1 |\n",
        "|   h  | 1 |\n",
        "|   i  | 1 |\n",
        "|   n  | 1 |\n",
        "|   s  | 1 |\n",
        "|   e  | 2 |\n",
        "|   o  | 2 |\n",
        "|   r  | 2 |\n",
        "|   t  | 3 |"
      ]
    },
    {
      "cell_type": "markdown",
      "metadata": {
        "id": "BjOIgAZZVbY4"
      },
      "source": [
        "##### The ever-shrinking queue:"
      ]
    },
    {
      "cell_type": "markdown",
      "metadata": {
        "id": "LEVjSFE9VbY4"
      },
      "source": [
        "* a1 h1 i1 n1 s1 e2 o2 r2 t3\n",
        "* i1 n1 s1 e2 o2 r2 ah2 t3\n",
        "* s1 e2 o2 r2 ah2 in2 t3\n",
        "* o2 r2 ah2 in2 t3 se3\n",
        "* ah2 in2 t3 se3 or4\n",
        "* t3 se3 or4 ahin4\n",
        "* or4 ahin4 tse6\n",
        "* tse6 orahin8\n",
        "* tseorahin14"
      ]
    },
    {
      "cell_type": "markdown",
      "metadata": {
        "id": "ZeozgfOLVbY4"
      },
      "source": [
        "##### The Huffman Tree:"
      ]
    },
    {
      "cell_type": "code",
      "metadata": {
        "id": "-2FB2vHtVbY4"
      },
      "source": [
        "'''\n",
        "    tseorahin14\n",
        "    /        \\\n",
        " tse6     orahin8\n",
        "  / \\      /    \\\n",
        "t3 se3   or4   ahin4\n",
        "   / \\   / \\    /   \\\n",
        "  s1 e2 o2 r2 ah2   in2\n",
        "              / \\   / \\\n",
        "             a1 h1 i1 n1\n",
        "'''"
      ],
      "execution_count": null,
      "outputs": []
    },
    {
      "cell_type": "markdown",
      "metadata": {
        "id": "Weh87t4iVbY6"
      },
      "source": [
        "##### The Code Tuples"
      ]
    },
    {
      "cell_type": "markdown",
      "metadata": {
        "id": "-uihVyZuVbY6"
      },
      "source": [
        "Read the codes from the tree:"
      ]
    },
    {
      "cell_type": "code",
      "metadata": {
        "id": "3J20ht-dVbY6",
        "colab": {
          "base_uri": "https://localhost:8080/"
        },
        "outputId": "57ad3232-7aa0-43fb-97ff-4173575c7ef8"
      },
      "source": [
        "message2_code_tuples = \\\n",
        "[('a', 1, '1100'),\n",
        " ('e', 2, '011'),\n",
        " ('h', 1, '1101'),\n",
        " ('i', 1, '1110'),\n",
        " ('n', 1, '1111'),\n",
        " ('o', 2, '100'),\n",
        " ('r', 2, '101'),\n",
        " ('s', 1, '010'),\n",
        " ('t', 3, '00'),\n",
        "]\n",
        "\n",
        "show_results(message2, message2_code_tuples)"
      ],
      "execution_count": 6,
      "outputs": [
        {
          "output_type": "stream",
          "text": [
            "          Total Characters: 14\n",
            "   Total Unique Characters: 9\n",
            "                Total Bits: 43\n",
            "Average Bits per Character: 3.07\n",
            "  Fixed Bits per Character: 4\n",
            "          Total Fixed Bits: 56\n",
            "         Compression Ratio: 0.232\n"
          ],
          "name": "stdout"
        }
      ]
    },
    {
      "cell_type": "markdown",
      "metadata": {
        "id": "iNVsz1Pixjxg"
      },
      "source": [
        "### TODO Create Data Tree and Code"
      ]
    },
    {
      "cell_type": "markdown",
      "metadata": {
        "id": "5HGwfaArxmyg"
      },
      "source": [
        "More warmup for your Ponder and Prove assignment this week:\n",
        "\n",
        "Create a Huffman Tree and codes for the gaps between the first few prime (except for the gap of size 1 between 2 and 3). Your goal is to find how many is \"few\" enough to have a compression ratio **better than 24%**.\n"
      ]
    },
    {
      "cell_type": "code",
      "metadata": {
        "colab": {
          "base_uri": "https://localhost:8080/"
        },
        "id": "7TBjHxPqx9WI",
        "outputId": "917fb977-f039-4f0c-9d76-72f10179ada2"
      },
      "source": [
        "from sympy import primerange\n",
        "\n",
        "list_of_gaps = []\n",
        "prev = 3\n",
        "gap = 0\n",
        "for prime in list(primerange(4, 300)):\n",
        "    gap = prime - prev\n",
        "    #print(gap)\n",
        "    prev = prime\n",
        "    list_of_gaps.append(gap)\n",
        "\n",
        "print(list_of_gaps)\n",
        "\n",
        "#8|1 14|1 12:2 10|4 4|16 6|17 2|19\n",
        "#12:2 8-14|2 10|4 4|16 6|17 2|19\n",
        "#10|4 12-8-14|4 4|16 6|17 2|19\n",
        "#10-12-8-14|8 4|16 6|17 2|19\n",
        "#6|17 2|19 10-12-8-14-4|24\n",
        "#6-2|36 10-12-8-14-4|24\n",
        "#6-2-10-12-8-14-4|60\n",
        "'''\n",
        "       2-6-4-8-10-12-14|60\n",
        "       /               \\\n",
        "    6-2|36          10-12-8-14-4|24\n",
        "    /   \\            /            \\\n",
        "   6|17 2|19       10-12-8-14|8   4|16\n",
        "                   /           \\ \n",
        "               12-8-14|4      10|4\n",
        "               /       \\\n",
        "            8-14|2    12|2\n",
        "            /    \\\n",
        "          8|1   14|1\n",
        "'''\n",
        "counter3 = Counter(list_of_gaps)\n",
        "\n",
        "print(list_of_gaps, '-->', counter3)\n",
        "list_of_counters = [counter3]\n",
        "\n",
        "primeTuples = [(6, 17, '00'),\n",
        "               (2, 19, '01'),\n",
        "               (4, 16, '11'),\n",
        "               (10, 4, '101'),\n",
        "               (12, 2, '1001'),\n",
        "               (8, 1, '10000'),\n",
        "               (14, 1, '10001'),]\n",
        "\n",
        "show_results(list_of_gaps, primeTuples)"
      ],
      "execution_count": 5,
      "outputs": [
        {
          "output_type": "stream",
          "text": [
            "[2, 2, 4, 2, 4, 2, 4, 6, 2, 6, 4, 2, 4, 6, 6, 2, 6, 4, 2, 6, 4, 6, 8, 4, 2, 4, 2, 4, 14, 4, 6, 2, 10, 2, 6, 6, 4, 6, 6, 2, 10, 2, 4, 2, 12, 12, 4, 2, 4, 6, 2, 10, 6, 6, 6, 2, 6, 4, 2, 10]\n",
            "[2, 2, 4, 2, 4, 2, 4, 6, 2, 6, 4, 2, 4, 6, 6, 2, 6, 4, 2, 6, 4, 6, 8, 4, 2, 4, 2, 4, 14, 4, 6, 2, 10, 2, 6, 6, 4, 6, 6, 2, 10, 2, 4, 2, 12, 12, 4, 2, 4, 6, 2, 10, 6, 6, 6, 2, 6, 4, 2, 10] --> Counter({2: 19, 6: 17, 4: 16, 10: 4, 12: 2, 8: 1, 14: 1})\n",
            "          Total Characters: 60\n",
            "   Total Unique Characters: 7\n",
            "                Total Bits: 134\n",
            "Average Bits per Character: 2.23\n",
            "  Fixed Bits per Character: 3\n",
            "          Total Fixed Bits: 180\n",
            "         Compression Ratio: 0.256\n"
          ],
          "name": "stdout"
        }
      ]
    },
    {
      "cell_type": "markdown",
      "metadata": {
        "id": "qQfXzkeixs4g"
      },
      "source": [
        "This is a work in progress. I think I could code a definite solution, but I don't have the time today."
      ]
    }
  ]
}