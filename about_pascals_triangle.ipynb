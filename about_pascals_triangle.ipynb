{
 "cells": [
  {
   "cell_type": "markdown",
   "metadata": {},
   "source": [
    "# About Pascal’s Triangle\n",
    "## Class Directed Learning\n",
    "### Due: Tuesday, 2 February 2021, 11:59 pm\n",
    "\\- Jarom Lybbert"
   ]
  },
  {
   "cell_type": "markdown",
   "metadata": {},
   "source": [
    "## A Helper Function\n",
    "Exercise 253 on page 161 shows a recursive definition of `nCk`. Here's a much more efficient way to compute binomial coefficients, which perhaps you can profitably use in your investigations:\n"
   ]
  },
  {
   "cell_type": "code",
   "execution_count": 1,
   "metadata": {},
   "outputs": [],
   "source": [
    "from math import gcd\n",
    "\n",
    "def nCk(n, k):\n",
    "  if k < 0 or k > n:\n",
    "    return 0\n",
    "  else:\n",
    "    result = 1\n",
    "    d = 1\n",
    "    g = 1\n",
    "    m = min(k, n - k)\n",
    "    while (d <= m):\n",
    "      g = gcd(result, d)\n",
    "      result = n * (result // g)\n",
    "      result = (result // (d // g))\n",
    "      n -= 1\n",
    "      d += 1\n",
    "    return result"
   ]
  },
  {
   "cell_type": "markdown",
   "metadata": {},
   "source": [
    "## Predominant and Fundamental\n",
    "The predominant pattern, the fundamental symmetry in Pascal's triangle is captured by the identity:\n",
    "$${n \\choose k} = {n \\choose n - k}$$\n",
    "## Identify Identities\n",
    "Here are two different identities that point out the same pattern in Pascal's triangle. What is the name of this pattern?\n",
    "### Identity 1\n",
    "For nonnegative integers $r$ and $n$:\n",
    "$$\\sum^n_{k=0} {r+k \\choose k} = {r+n+1 \\choose n}$$\n",
    "### Identity 2\n",
    "For nonnegative integers $m$ and $n$:\n",
    "$$\\sum^n_{k=0} {k \\choose m} = {n+1 \\choose m+1}$$"
   ]
  },
  {
   "source": [
    "# Hockey Stick Pattern\n",
    "The 2 identities given above identify the hockey stick pattern of Pascal's Triangle. What it means is, is that starting from any 1 on the side of the triangle, if the numbers to the bottom towards the center of the triangle are added up, it will equal whatever number is next down but to the outside of the triangle. This occurs from both the right and left of the triangle due to its symmetry."
   ],
   "cell_type": "markdown",
   "metadata": {}
  },
  {
   "cell_type": "markdown",
   "metadata": {},
   "source": [
    "# Investigate A Possible Relationship\n",
    "Does any row in Pascal's Triangle have the Fibonacci numbers' relationship between three consecutive entries? In other words, where x, y, and z are three consecutive entries in a single row, does x + y = z?\n",
    "\n",
    "  The number of rows where this relationship could possibly hold is:\n",
    "  - [x] Zero.\n",
    "  - [ ] At least one.\n",
    "  - [ ] At most one.\n",
    "  - [ ] Exactly one.\n",
    "  - [ ] It cannot be determined.\n",
    "\n",
    "I'm pretty sure this relationship is impossible on the triangle. Due to the nature of the triangle, the numbers can never match up properly. "
   ]
  },
  {
   "cell_type": "markdown",
   "metadata": {},
   "source": [
    "# Investigate Another Possible Relationship\n",
    "Does any row in Pascal's Triangle have three consecutive entries in the ratio 1:2:3? (12:24:36 is an example of three numbers in a 1:2:3 ratio.)?\n",
    "\n",
    "  The number of rows where this relationship could possibly hold is:\n",
    "  - [ ] Zero.\n",
    "  - [ ] At least one.\n",
    "  - [ ] At most one.\n",
    "  - [ ] Exactly one.\n",
    "  - [x] It cannot be determined.\n",
    "\n",
    "I really don't know about this one. I'm not sure how I would determine the answer. If thsi ratio does occur, it doesn't seem to be common, at least not on the upper end of the triangle."
   ]
  }
 ],
 "metadata": {
  "kernelspec": {
   "display_name": "Python 3",
   "language": "python",
   "name": "python3"
  },
  "language_info": {
   "codemirror_mode": {
    "name": "ipython",
    "version": 3
   },
   "file_extension": ".py",
   "mimetype": "text/x-python",
   "name": "python",
   "nbconvert_exporter": "python",
   "pygments_lexer": "ipython3",
   "version": "3.9.0"
  }
 },
 "nbformat": 4,
 "nbformat_minor": 4
}