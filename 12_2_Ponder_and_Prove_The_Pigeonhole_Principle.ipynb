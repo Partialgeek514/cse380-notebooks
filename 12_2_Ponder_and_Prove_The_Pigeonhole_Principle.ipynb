{
  "nbformat": 4,
  "nbformat_minor": 0,
  "metadata": {
    "colab": {
      "name": "12_2_Ponder_and_Prove_The_Pigeonhole_Principle.ipynb",
      "provenance": [],
      "authorship_tag": "ABX9TyMUpDwijcJKPxnaIhDtOnTj",
      "include_colab_link": true
    },
    "kernelspec": {
      "name": "python3",
      "display_name": "Python 3",
      "language": "python"
    },
    "language_info": {
      "name": "python",
      "version": "3.9.1-final"
    }
  },
  "cells": [
    {
      "cell_type": "markdown",
      "metadata": {
        "id": "view-in-github",
        "colab_type": "text"
      },
      "source": [
        "<a href=\"https://colab.research.google.com/github/byui-cse/cse380-notebooks/blob/master/12_2_Ponder_and_Prove_The_Pigeonhole_Principle.ipynb\" target=\"_parent\"><img src=\"https://colab.research.google.com/assets/colab-badge.svg\" alt=\"Open In Colab\"/></a>"
      ]
    },
    {
      "cell_type": "markdown",
      "metadata": {
        "id": "ivY_Ypmxx7Vm"
      },
      "source": [
        "# Ponder and Prove The Pigeonhole Principle\n",
        "## Due: Saturday, 27 March 2021"
      ]
    },
    {
      "cell_type": "markdown",
      "metadata": {
        "id": "zF2K38sxyH5Z"
      },
      "source": [
        "## Exploration"
      ]
    },
    {
      "cell_type": "markdown",
      "metadata": {
        "id": "uBgYLYK5yJzk"
      },
      "source": [
        "You are invited to explore some of the ramifications of the *Pigeonhole Principle*, a fascinating counting principle belonging to combinatorics.\n"
      ]
    },
    {
      "cell_type": "markdown",
      "metadata": {
        "id": "cIS4n3DpyXA1"
      },
      "source": [
        "### Requirements"
      ]
    },
    {
      "cell_type": "markdown",
      "metadata": {
        "id": "FqgealMfyZc8"
      },
      "source": [
        "Read Brother Kent Bessey's essay entitled *Pigeons and Pigeonholes*, think about and explore the topics therein, and write your response thereto.\n",
        "\n",
        "Include in your response a description of a discussion about this essay that you will have had with someone *not in the class* (nor in any of the STEM majors). This person can be a spouse, friend, roommate, or relative. The point is to find someone who is not mathematically strong, and has probably never heard of the Pigeonhole Principle, or combinatorics (or discrete mathematics) in general."
      ]
    },
    {
      "cell_type": "markdown",
      "metadata": {
        "id": "aPEEcqUGzFds"
      },
      "source": [
        "#### Copyright Note"
      ]
    },
    {
      "cell_type": "markdown",
      "metadata": {
        "id": "9EPgpQ0hzHr5"
      },
      "source": [
        "Brother Kent A. Bessey, Professor of Mathematics at BYU-Idaho, holds the copyright to this essay, which means:\n",
        "\n",
        "> All rights reserved (by him). Reproduced by permission (from him).\n",
        "Read-only. Please do not copy, print, transmit or save a copy of\n",
        "this work.\n",
        "\n",
        "He has authorized your temporary use of his work, which [you can find here](https://firstthreeodds.org/17657741833134731255/pigeons-and-pigeonholes.pdf)."
      ]
    },
    {
      "cell_type": "markdown",
      "metadata": {
        "id": "vRKIt3NOzkwH"
      },
      "source": [
        "### DONE Concretize the Abstract by Writing Some Code"
      ]
    },
    {
      "cell_type": "markdown",
      "metadata": {
        "id": "ngXSoVu3znIJ"
      },
      "source": [
        "Specifically, write some Python code to help you figure out the problem on page 40, which Brother Bessey prefaces by saying:\n",
        "\n",
        "> I leave it to the reader to verify the calculations for a final (albeit challenging) exercise ...!\n",
        "\n",
        "Include the results of your grappling with this problem, and note the two stubbed functions below that you must flesh out in order to verify the calculations and explain the hows and whys."
      ]
    },
    {
      "cell_type": "markdown",
      "metadata": {
        "id": "EBQNhzqGzzIF"
      },
      "source": [
        "#### Stub Code"
      ]
    },
    {
      "cell_type": "code",
      "metadata": {
        "id": "fCOUkHjqz10k"
      },
      "source": [
        "class IdahoianPerson:\n",
        "  def __init__(self, initials, lds, like_cats, before1967, wear_contacts, bite_nails, near_mcdonalds):\n",
        "    self.initials = initials\n",
        "    self.lds = lds\n",
        "    self.like_cats = like_cats\n",
        "    self.before1967 = before1967\n",
        "    self.wear_contacts = wear_contacts\n",
        "    self.bite_nails = bite_nails\n",
        "    self.near_mcdonalds = near_mcdonalds\n",
        "\n",
        "def calculate_number_of_possible_initials_including_middle_initial_if_any(n):\n",
        "  # YOUR CODE GOES HERE\n",
        "  possible_initials = 26 * 27 * 26 # 26 possible first initials, 26 possible middle initials plus possibility of no initial, 26 possible last initials\n",
        "  print(f\"Possible Initials: {possible_initials}\")\n",
        "\n",
        "  return n // possible_initials + (1 if possible_initials % n != 0 else 0)\n",
        "  \n",
        "def pigeonhole_from_pigeon(pigeon_represented_as_a_person_with_traits):\n",
        "  # YOUR CODE GOES HERE\n",
        "  p = pigeon_represented_as_a_person_with_traits\n",
        "  print(f\"Initials: {p.initials}\")\n",
        "  print(f\"Is LDS: {p.lds}\")\n",
        "  print(f\"Likes Cats: {p.like_cats}\")\n",
        "  print(f\"Born Before 1967: {p.before1967}\")\n",
        "  print(f\"Wears Contacts: {p.wear_contacts}\")\n",
        "  print(f\"Bites Finger Nails: {p.bite_nails}\")\n",
        "  print(f\"Lives Within 3.5 miles of a McDonalds: {p.near_mcdonalds}\")\n",
        "\n",
        "def compute_least_number_of_people_with_same_traits(n):\n",
        "  possible_pigeon_holes = 26 * 27 * 26 * 2 * 2 * 2 * 2 * 2 * 2\n",
        "  print(possible_pigeon_holes)\n",
        "  least_same_traits = n // possible_pigeon_holes + (1 if possible_pigeon_holes % n != 0 else 0)\n",
        "  print(f\"Least number of people with same traits: {least_same_traits}\")\n",
        "  return least_same_traits\n",
        "\n",
        "population_of_idaho = 1787000\n",
        "compute_least_number_of_people_with_same_traits(population_of_idaho)\n",
        "print(calculate_number_of_possible_initials_including_middle_initial_if_any(population_of_idaho))"
      ],
      "execution_count": 8,
      "outputs": [
        {
          "output_type": "stream",
          "name": "stdout",
          "text": [
            "1168128\nLeast number of people with same traits: 2\nPossible Initials: 18252\n98\n"
          ]
        }
      ]
    },
    {
      "source": [
        "I can conclued with certaintly that there are at least 2 people in Idaho who match the traits given on page 40 of the essay. There is a probability regarding how many people in total match these traits, but I can see that there is full certaintly regarding the fact that 2 people do have these traits. It's probably something that would need to be taken into account when making other calculations."
      ],
      "cell_type": "markdown",
      "metadata": {}
    },
    {
      "cell_type": "markdown",
      "metadata": {
        "id": "JvMpIHMF0JuM"
      },
      "source": [
        "### DONE Find Applications of the Pigeonhole Principle"
      ]
    },
    {
      "cell_type": "markdown",
      "metadata": {
        "id": "9aicPoZG0Lbj"
      },
      "source": [
        "Especially in graph theory --- there are many!\n",
        "\n",
        "I can see this being applied in graph theory. For example, if there are 4 nodes and 3 links, at least 1 node is the endpoint of multiple links.\n",
        "\n",
        "Or in a round-robin tournament. One can calculate that at least one team/player will win a minimum number of times. If there are 9 teams, then each team will play 8 games. Accoring to the Pigeonhole Principle, at least 1 team will win 4 or more times. "
      ]
    },
    {
      "cell_type": "markdown",
      "metadata": {
        "id": "81dbKwHenxnT"
      },
      "source": [
        "## DONE My Report on What I Did and What I Learned"
      ]
    },
    {
      "cell_type": "markdown",
      "metadata": {
        "id": "C8BeiIern33B"
      },
      "source": [
        "### Fun\n"
      ]
    },
    {
      "cell_type": "markdown",
      "metadata": {
        "id": "ElukRLoezyxd"
      },
      "source": [
        "This was fun to learn about. It's a very simple concept. The coding was fun to do too."
      ]
    },
    {
      "cell_type": "markdown",
      "metadata": {
        "id": "OzOkZ3son-u9"
      },
      "source": [
        "### New"
      ]
    },
    {
      "cell_type": "markdown",
      "metadata": {
        "id": "3-nYIdEUz4x5"
      },
      "source": [
        "I learned that such a simple concept can have important implications for math, even to the point that it needs to be defined. I'd never thought about this concept this way before."
      ]
    },
    {
      "cell_type": "markdown",
      "metadata": {
        "id": "mJHvoj6GokaZ"
      },
      "source": [
        "### Meaningful\n"
      ]
    },
    {
      "cell_type": "markdown",
      "metadata": {
        "id": "XOxh3XFTz-6N"
      },
      "source": [
        "I'd love to study this more. I'm not sure how I'll apply this idea directly in my life, but I'm sure it will come up in sutble ways. the essay was a good read too. I loved how it used the Pigeonhole Principle to prove several odd facts, things that I would never have thought of. It opened my eyes to a different way of thinking. I never thought about there being a way to prove that there is a solution without knowing what the solution is. I wonder how many problems in math are in this unsolved state."
      ]
    },
    {
      "cell_type": "markdown",
      "metadata": {
        "id": "_RBE03fhpNUG"
      },
      "source": [
        "### Other"
      ]
    },
    {
      "cell_type": "markdown",
      "metadata": {
        "id": "d-sXEeq60C3W"
      },
      "source": [
        "I didn't collaberate with anyone for this assignment."
      ]
    },
    {
      "cell_type": "markdown",
      "metadata": {
        "id": "Nrk-8EmgW4NP"
      },
      "source": [
        "## DONE What is True?\n",
        "Click on each warranted checkbox to toggle it to True (or back to False). \n",
        "\n",
        "NOTE: *This only works in Colab. If you run it in some other Jupyter notebook client/server environment you may have to change False to True (or vice versa) manually.*\n",
        "\n",
        "This self-assessment is subject to revision by a grader."
      ]
    },
    {
      "cell_type": "code",
      "metadata": {
        "id": "qGAjzgVRXR4M"
      },
      "source": [
        "#@markdown ## What is True about what I did?\n",
        "#@markdown ### I had fun.\n",
        "cb00 = True #@param {type:'boolean'}\n",
        "#@markdown ### I learned something new.\n",
        "cb01 = True #@param {type:'boolean'}\n",
        "#@markdown ### I achieved something meaningful, or something I can build upon at a later time.\n",
        "cb02 = True #@param {type:'boolean'}\n",
        "#@markdown ## What is True about my report?\n",
        "#@markdown ### I wrote a sufficient number of well-written sentences.\n",
        "cb03 = True #@param {type:'boolean'}\n",
        "#@markdown ### My report is free of mechanical infelicities.\n",
        "cb04 = True #@param {type:'boolean'}\n",
        "#@markdown ### I used Grammarly (or something better described in my report) to check for MIs.\n",
        "cb05 = False #@param {type:'boolean'}\n",
        "#@markdown ### I reported on any connections I found between these problems and something I already know. \n",
        "cb06 = False #@param {type:'boolean'}\n",
        "#@markdown ### I reported who were and what contribution each of my collaborators made.\n",
        "cb07 = True #@param {type:'boolean'}\n",
        "#@markdown ### I reported what I thought about the essay in general.\n",
        "cb08 = True #@param {type:'boolean'}\n",
        "#@markdown ### I reported what I thought about the certainty-not-chance feature of the pigeonhole principle.\n",
        "cb09 = True #@param {type:'boolean'}\n",
        "#@markdown ### I reported what I thought about the philosophical aspect of the pigeonhole principle per page 41.\n",
        "cb10 = True #@param {type:'boolean'}\n",
        "#@markdown ### I reported on how my discussion with a non-STEM non-classmate went.\n",
        "cb11 = False #@param {type:'boolean'}\n",
        "#@markdown ### I reported on how I grappled with the problem at the bottom of page 40.\n",
        "cb12 = True #@param {type:'boolean'}\n",
        "#@markdown ### I reported on the connection I found between the pigeonhole principle and graphs.\n",
        "cb13 = True #@param {type:'boolean'}\n",
        "#@markdown ## What is True about my code?\n",
        "#@markdown ### I implemented the first function (the one with the absurdly long name) in one or two lines of code.\n",
        "cb14 = True #@param {type:'boolean'}\n",
        "#@markdown ### I used either the sum rule and product rule together or else just the product rule in the first function.\n",
        "cb15 = True #@param {type:'boolean'}\n",
        "#@markdown ### The first function calculates and returns the correct value (see Exercise 250).\n",
        "cb16 = True #@param {type:'boolean'}\n",
        "#@markdown ### The second function inputs a dictionary like {'Name': 'John Doe', 'LDS': True, 'Likes Cats': True, 'Born Before': True, 'Wears Contacts': False, 'Bites Fingernails': False, 'Lives Close': True} and returns the string 'J D:111001'.\n",
        "cb17 = False #@param {type:'boolean'}\n",
        "#@markdown ### The second function calls the first function with the appropriate argument and uses the result.\n",
        "cb18 = False #@param {type:'boolean'}\n",
        "#@markdown ### The second function includes an assert that the length of the string being returned is 10.\n",
        "cb19 = False #@param {type:'boolean'}\n",
        "#@markdown ### The second function includes an assert that the cardinality of its codomain (set of possible return values) is over a million.\n",
        "cb20 = False #@param {type:'boolean'}"
      ],
      "execution_count": null,
      "outputs": []
    },
    {
      "cell_type": "markdown",
      "metadata": {
        "id": "q8KESLBANSkC"
      },
      "source": [
        "## DO NOT CHANGE ANYTHING IN THE NEXT CODE CELL!!\n",
        "### Delete this cell and the following ones before submitting your work."
      ]
    },
    {
      "cell_type": "code",
      "metadata": {
        "id": "rJ_vaL0DWwoc",
        "colab": {
          "base_uri": "https://localhost:8080/"
        },
        "outputId": "de4a9ea6-03a9-4d79-94dd-27e2603abe59"
      },
      "source": [
        "points_for_what_I_did = [3]*3\n",
        "points_for_my_report = [5]*8 + [7] + [6]*2\n",
        "points_for_my_code = [4]*3 + [5]*4\n",
        "points = points_for_what_I_did + points_for_my_report + points_for_my_code\n",
        "# cb is short for checkbox\n",
        "total = sum(map(lambda n, p: p if eval(f'cb{n:02}') else 0,\n",
        "                range(len(points)), points))             \n",
        "total"
      ],
      "execution_count": null,
      "outputs": [
        {
          "output_type": "execute_result",
          "data": {
            "text/plain": [
              "0"
            ]
          },
          "metadata": {
            "tags": []
          },
          "execution_count": 14
        }
      ]
    },
    {
      "cell_type": "markdown",
      "metadata": {
        "id": "muxeYgQQKGEU"
      },
      "source": [
        "# For graders"
      ]
    }
  ]
}