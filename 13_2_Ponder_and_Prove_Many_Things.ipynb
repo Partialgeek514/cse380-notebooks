{
  "nbformat": 4,
  "nbformat_minor": 0,
  "metadata": {
    "colab": {
      "name": "13_2_Ponder_and_Prove_Many_Things.ipynb",
      "provenance": [],
      "authorship_tag": "ABX9TyO8IULuqVjJlvplhZWUq5VK",
      "include_colab_link": true
    },
    "kernelspec": {
      "name": "python3",
      "display_name": "Python 3",
      "language": "python"
    },
    "language_info": {
      "name": "python",
      "version": "3.9.1-final"
    }
  },
  "cells": [
    {
      "cell_type": "markdown",
      "metadata": {
        "id": "view-in-github",
        "colab_type": "text"
      },
      "source": [
        "<a href=\"https://colab.research.google.com/github/byui-cse/cse380-notebooks/blob/master/13_2_Ponder_and_Prove_Many_Things.ipynb\" target=\"_parent\"><img src=\"https://colab.research.google.com/assets/colab-badge.svg\" alt=\"Open In Colab\"/></a>"
      ]
    },
    {
      "cell_type": "markdown",
      "metadata": {
        "id": "0GZOWnts9NAD"
      },
      "source": [
        "# Ponder and Prove Many Things\n",
        "## Due: Thursday, 1 April 2021, 11:59 pm"
      ]
    },
    {
      "cell_type": "markdown",
      "metadata": {
        "id": "S5XdXGMv9dy4"
      },
      "source": [
        "### Is It Decidable?"
      ]
    },
    {
      "cell_type": "markdown",
      "metadata": {
        "id": "Gzy9wIboAVvi"
      },
      "source": [
        "#### DONE Study and run the code below."
      ]
    },
    {
      "cell_type": "markdown",
      "metadata": {
        "id": "218Qmbtx9lP6"
      },
      "source": [
        "And answer these questions:\n",
        "1. What is this program computing?\n",
        "2. How does it do it?\n",
        "3. Will it ever terminate?"
      ]
    },
    {
      "cell_type": "code",
      "metadata": {
        "id": "LfltDFaw9trA"
      },
      "source": [
        "from math import log2\n",
        "\n",
        "def you_decide():\n",
        "  flibbers = [17,78,19,23,29,77,95,77,1,11,13,15,15,55]\n",
        "  flobbers = [91,85,51,38,33,29,23,19,17,13,11,14,2,1]\n",
        "  i = 2\n",
        "  time_keeps_ticking = True\n",
        "  while time_keeps_ticking:\n",
        "    time_keeps_ticking = False\n",
        "    for n in range(len(flibbers)):\n",
        "      f = i * flibbers[n]\n",
        "      if not f % flobbers[n]:\n",
        "        i = f // flobbers[n]\n",
        "        p = log2(i)\n",
        "        if p.is_integer():\n",
        "          print(int(p)) #Changed this to make it more clear that it's computing primes.\n",
        "        time_keeps_ticking = True\n",
        "        break"
      ],
      "execution_count": 1,
      "outputs": []
    },
    {
      "cell_type": "code",
      "metadata": {
        "id": "fGZ9lZCP9xWC",
        "tags": []
      },
      "source": [
        "you_decide()\n",
        "\n",
        "#This is a Fractran. It computes all the primes. It will never end as there are infinte primes."
      ],
      "execution_count": 2,
      "outputs": [
        {
          "output_type": "stream",
          "name": "stdout",
          "text": [
            "2\n",
            "3\n",
            "5\n",
            "7\n",
            "11\n",
            "13\n",
            "17\n",
            "19\n",
            "23\n",
            "29\n",
            "31\n",
            "37\n",
            "41\n",
            "43\n",
            "47\n",
            "53\n",
            "59\n",
            "61\n",
            "67\n",
            "71\n",
            "73\n",
            "79\n",
            "83\n",
            "89\n",
            "97\n",
            "101\n",
            "103\n",
            "107\n",
            "109\n",
            "113\n",
            "127\n",
            "131\n",
            "137\n",
            "139\n",
            "149\n",
            "151\n",
            "157\n",
            "163\n",
            "167\n",
            "173\n",
            "179\n",
            "181\n",
            "191\n",
            "193\n",
            "197\n",
            "199\n"
          ]
        },
        {
          "output_type": "error",
          "ename": "KeyboardInterrupt",
          "evalue": "",
          "traceback": [
            "\u001b[1;31m---------------------------------------------------------------------------\u001b[0m",
            "\u001b[1;31mKeyboardInterrupt\u001b[0m                         Traceback (most recent call last)",
            "\u001b[1;32m<ipython-input-2-170b58c9f256>\u001b[0m in \u001b[0;36m<module>\u001b[1;34m\u001b[0m\n\u001b[1;32m----> 1\u001b[1;33m \u001b[0myou_decide\u001b[0m\u001b[1;33m(\u001b[0m\u001b[1;33m)\u001b[0m\u001b[1;33m\u001b[0m\u001b[1;33m\u001b[0m\u001b[0m\n\u001b[0m\u001b[0;32m      2\u001b[0m \u001b[1;33m\u001b[0m\u001b[0m\n\u001b[0;32m      3\u001b[0m \u001b[1;31m#This is a Fractran. It computes all the primes. It will never end as there are infinte primes.\u001b[0m\u001b[1;33m\u001b[0m\u001b[1;33m\u001b[0m\u001b[1;33m\u001b[0m\u001b[0m\n",
            "\u001b[1;32m<ipython-input-1-545e2df1ef07>\u001b[0m in \u001b[0;36myou_decide\u001b[1;34m()\u001b[0m\n\u001b[0;32m     13\u001b[0m         \u001b[0mi\u001b[0m \u001b[1;33m=\u001b[0m \u001b[0mf\u001b[0m \u001b[1;33m//\u001b[0m \u001b[0mflobbers\u001b[0m\u001b[1;33m[\u001b[0m\u001b[0mn\u001b[0m\u001b[1;33m]\u001b[0m\u001b[1;33m\u001b[0m\u001b[1;33m\u001b[0m\u001b[0m\n\u001b[0;32m     14\u001b[0m         \u001b[0mp\u001b[0m \u001b[1;33m=\u001b[0m \u001b[0mlog2\u001b[0m\u001b[1;33m(\u001b[0m\u001b[0mi\u001b[0m\u001b[1;33m)\u001b[0m\u001b[1;33m\u001b[0m\u001b[1;33m\u001b[0m\u001b[0m\n\u001b[1;32m---> 15\u001b[1;33m         \u001b[1;32mif\u001b[0m \u001b[0mp\u001b[0m\u001b[1;33m.\u001b[0m\u001b[0mis_integer\u001b[0m\u001b[1;33m(\u001b[0m\u001b[1;33m)\u001b[0m\u001b[1;33m:\u001b[0m\u001b[1;33m\u001b[0m\u001b[1;33m\u001b[0m\u001b[0m\n\u001b[0m\u001b[0;32m     16\u001b[0m           \u001b[0mprint\u001b[0m\u001b[1;33m(\u001b[0m\u001b[0mint\u001b[0m\u001b[1;33m(\u001b[0m\u001b[0mp\u001b[0m\u001b[1;33m)\u001b[0m\u001b[1;33m)\u001b[0m \u001b[1;31m#Changed this to make it more clear that it's computing primes.\u001b[0m\u001b[1;33m\u001b[0m\u001b[1;33m\u001b[0m\u001b[0m\n\u001b[0;32m     17\u001b[0m         \u001b[0mtime_keeps_ticking\u001b[0m \u001b[1;33m=\u001b[0m \u001b[1;32mTrue\u001b[0m\u001b[1;33m\u001b[0m\u001b[1;33m\u001b[0m\u001b[0m\n",
            "\u001b[1;31mKeyboardInterrupt\u001b[0m: "
          ]
        }
      ]
    },
    {
      "cell_type": "markdown",
      "metadata": {
        "id": "oqZ3784B-EyX"
      },
      "source": [
        "### Fun With Decidability"
      ]
    },
    {
      "cell_type": "markdown",
      "metadata": {
        "id": "aeiVo2WpkySc"
      },
      "source": [
        "#### DONE Read and Share"
      ]
    },
    {
      "cell_type": "markdown",
      "metadata": {
        "id": "i13mpSpd-O39"
      },
      "source": [
        "Read [Can't Decide? Undecide! by Chaim Goodman-Strauss](https://strauss.hosted.uark.edu/papers/decide.pdf)\n",
        "\n",
        "Share six things that you found interesting in this paper.\n",
        "\n",
        "1. I hadn't thought much about shapes that can tile before. I don't even know where I'd start if I wanted to prove that a shape tiles or not. The brute force appraoch sounds like it would work, but I don't know exactly how I'd implement it.\n",
        "\n",
        "2. I find it amazing sometimes that there are problems in math that no one has been able to solve. The Collatz function is really interesting. I can't imagine how so many inputs always end. It seems like such a simple problem.\n",
        "\n",
        "3. Emil Post's problem really is vexing. I've always liked think about these problems, though I have no clue how to explain why they're so unpredicable sometimes. Every number has it's own unique properties I suppose.\n",
        "\n",
        "4. Fractrans are so cool! I had no idea what the above code was doing until I read that in the reading. I'm dumbfounded that these fractions could have that property.\n",
        "\n",
        "5. The first example in the Post Correspondence Problem was fun. I'm still stuggling to understand the entire scope of these problems though.\n",
        "\n",
        "6. Word ladders with formal productions do sounds interesting. Is the infinite number of words what make it undecidable?\n",
        "\n",
        "Share six things that you already knew or had heard about before. (These can overlap with the first six.)\n",
        "\n",
        "1. I'd known that there are shapes that can tile and shapes that don't. I just hadn't thought very deeply about it before.\n",
        "\n",
        "2. Conways Game of Life has always been something that I've liked! I did't realize how powerful it could be though. I do understand that it has patterns though, and that can give it power.\n",
        "\n",
        "3. My brother has talked about how complex and powerful math can be. It's cool finally learning some of the details of that complexity.\n",
        "\n",
        "4. I honestly don't know what else to say. Most of everything in the article was new to me or hard to understand.\n",
        "\n",
        "Write one to two sentences for each of the things you share.\n"
      ]
    },
    {
      "cell_type": "markdown",
      "metadata": {
        "id": "gjeWZ0Mo-r6E"
      },
      "source": [
        "### The Map of Mathematics"
      ]
    },
    {
      "cell_type": "markdown",
      "metadata": {
        "id": "xFFVrRTl-wY9"
      },
      "source": [
        "[The entire field of mathematics summarized in a single map!](https://www.youtube.com/watch?v=OmJ-4B-mS-Y) --- direct link, or embedded below.\n",
        "\n",
        "This video shows how pure mathematics and applied mathematics relate to each other and all of the sub-topics they are made from."
      ]
    },
    {
      "cell_type": "code",
      "metadata": {
        "id": "Wd_Ny-gS-zpk"
      },
      "source": [
        "from IPython.display import YouTubeVideo\n",
        "YouTubeVideo('OmJ-4B-mS-Y') # 11 minutes 5 seconds"
      ],
      "execution_count": null,
      "outputs": []
    },
    {
      "cell_type": "markdown",
      "metadata": {
        "id": "8PD-pimc-1dk"
      },
      "source": [
        "#### DONE Watch and Share"
      ]
    },
    {
      "cell_type": "markdown",
      "metadata": {
        "id": "9WIEkJ0p-9JD"
      },
      "source": [
        "Share six things that you found interesting in this video.\n",
        "\n",
        "1. I thought it was really cool that aspects of pure math have been later used in applied math. It makes the study of pure math seem much more important, in that it might be used in technology someday.\n",
        "\n",
        "2. The history of math is interesting. I thought it was cool that so many basics of math were develped in ancient times.\n",
        "\n",
        "3. It's kind of weird that the foundations of math and the origins of math are 2 seperate things.\n",
        "\n",
        "4. It's also cool just how wide the scope of math is. There were so many icons on the map.\n",
        "\n",
        "5. It's interesting that fluid dynamics was also part of the map. I always thought of it as physics, but I suppose it really is a very mathmatic part of physics.\n",
        "\n",
        "6. I loved learning how there were different aspects of math discovered in different parts of the world.\n",
        "\n",
        "Share six things that you already knew or had heard about before. (These can overlap with the first six.)\n",
        "\n",
        "1. I knew that math had a lot within it's scope, but I'd never visualized it how this video does.\n",
        "\n",
        "2. I think I knew that a lot of math was discovered in Islam nations. I wonder if they don't always get the credit they deserve.\n",
        "\n",
        "3. I'd heard of pure vs applied math before. I hadn't fully categorized them though.\n",
        "\n",
        "4. I think my brother told me once about as pure math idea that was found to be useful in computer science years after the idea was discovered. It's amazing that math is like that.\n",
        "\n",
        "5. I knew that some types of math seemed totally unrelated, but this map helps show how they are all connected.\n",
        "\n",
        "6. I'd heard that people who go into math have to choose a specialty, but I think I really see why now.\n",
        "\n",
        "Write one to two sentences for each of the things you share.\n"
      ]
    },
    {
      "cell_type": "markdown",
      "metadata": {
        "id": "nfxMo9bl_TZA"
      },
      "source": [
        "### The Map of Computer Science"
      ]
    },
    {
      "cell_type": "markdown",
      "metadata": {
        "id": "bM9Dst0d_tIW"
      },
      "source": [
        "[The field of computer science similarly summarized.](https://www.youtube.com/watch?v=SzJ46YA_RaA) --- direct link, or embedded below."
      ]
    },
    {
      "cell_type": "code",
      "metadata": {
        "id": "LnBJvrbi_xIp"
      },
      "source": [
        "from IPython.display import YouTubeVideo\n",
        "YouTubeVideo('SzJ46YA_RaA') # 10 minutes 57 seconds"
      ],
      "execution_count": null,
      "outputs": []
    },
    {
      "cell_type": "markdown",
      "metadata": {
        "id": "5194ShLd_zjU"
      },
      "source": [
        "#### TODO Watch and Share"
      ]
    },
    {
      "cell_type": "markdown",
      "metadata": {
        "id": "zTI_XHCU_1HW"
      },
      "source": [
        "Share six things that you found interesting in this video.\n",
        "\n",
        "1. I liked how the the video showed how different theoretical computer science is compared to software development. At least in school, there doesn't always seem to be much of a difference.\n",
        "\n",
        "2. I also thought it was cool how computer engineering was included in the map. I didn't really think of that as computer science, even though it is very closely connected.\n",
        "\n",
        "3. I thought it was interesting how the video also explained the different levels of computer programming, from machine code to high-level languages.\n",
        "\n",
        "4. I also liked the videos description of how the modern computer compares to a traitional Turing Machine. I didn't know much about that.\n",
        "\n",
        "5. It's also interesting how computer graphics as its own little niche in computer science. It has both hardware and software dedicated to it.\n",
        "\n",
        "6. Networking is also pretty cool. I like how the video briefly went over it.\n",
        "\n",
        "Share six things that you already knew or had heard about before. (These can overlap with the first six.)\n",
        "\n",
        "1. I already know that programming and computer engineering were closely related, but I didn't expect them to both be put in this map.\n",
        "\n",
        "2. I know that computers were Turing Machines in a way, but I'd never known how to compare them so closely. I've never learned much about Turing Machines beyond their logical capibility.\n",
        "\n",
        "3. I knew there was a deep theoretical side to computer science. I've always struggled with it though. The math involved in it is tricky for me, but it is really important for developing new ways of computing.\n",
        "\n",
        "4. I'd also heard of the CPU scheduler. I've never learned much about how it does its job though. It sounds pretty complex.\n",
        "\n",
        "5. I'd also heard that it's getting harder to make transistors any smaller due to the confines of the laws of physics. I wonder what effect that will have in the long run though.\n",
        "\n",
        "6. It was also cool seeing that this video talked about the Halting Problem briefly. I'd only just heard of it, and it does seem like a cool thing to study.\n",
        "\n",
        "Write one to two sentences for each of the things you share."
      ]
    },
    {
      "cell_type": "markdown",
      "metadata": {
        "id": "fPu3fWgR_3hI"
      },
      "source": [
        "### SKIP Report"
      ]
    },
    {
      "cell_type": "markdown",
      "metadata": {
        "id": "JoO9lagO_5lt"
      },
      "source": [
        "The sentences you have already (supposedly) written will suffice."
      ]
    },
    {
      "cell_type": "markdown",
      "metadata": {
        "id": "shpEERFS_87F"
      },
      "source": [
        "### SKIP Self-Assessment"
      ]
    },
    {
      "cell_type": "markdown",
      "metadata": {
        "id": "yWvKYeqc__bX"
      },
      "source": [
        "Instead, you will have ilearn peer reviews to complete."
      ]
    }
  ]
}