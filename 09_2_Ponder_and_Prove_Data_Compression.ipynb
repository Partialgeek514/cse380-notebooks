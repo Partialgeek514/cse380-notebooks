{
  "nbformat": 4,
  "nbformat_minor": 0,
  "metadata": {
    "colab": {
      "name": "Copy of 09_2_Ponder_and_Prove_Data_Compression.ipynb",
      "provenance": [],
      "collapsed_sections": []
    },
    "kernelspec": {
      "name": "python3",
      "display_name": "Python 3"
    }
  },
  "cells": [
    {
      "cell_type": "markdown",
      "metadata": {
        "id": "1rG4k7VvQ2WT"
      },
      "source": [
        "# Ponder and Prove Data Compression\n",
        "#### Due: Saturday, 6 March 2021, 11:59 pm."
      ]
    },
    {
      "cell_type": "markdown",
      "metadata": {
        "id": "W0WxE3IAQ2WU"
      },
      "source": [
        "# DONE Explore Huffman Trees and Huffman Codes\n"
      ]
    },
    {
      "cell_type": "markdown",
      "metadata": {
        "id": "w2vby9erSjOv"
      },
      "source": [
        "Your task is examine how to compress a *special piece of information* as compactly as possible, and **calculate various compression ratios**.\n",
        "\n",
        "Recall that the **compression ratio** of a variable-length encoding like Huffman encoding is the percentage $100(f - v)/f$, where $f$ is the number of bits per symbol of the smallest **fixed**-length encoding, and $v$ is the average number of bits per symbol with the variable-length encoding.\n",
        "\n",
        "For example, if there were 9 different symbols in a message, $f=4$ is the number of bits of the smallest fixed-length encoding, because $2^3 = 8$ (not enough for $9$) and $2^4 = 16$ (enough and to spare). If the variable-length encoding of the message had $v=3.12$, the compression ratio would be $100(4 - 3.12)/4 \\approx 22\\%$.\n",
        "\n",
        "Note that calculating the average number of bits per symbol is not strictly necessary. That's because an alternate and equivalent way is to calculate $100(ft - vt)/ft$, where $ft$ is the **total** number of bits encoded with the fixed encoding, and $vt$ is the **total** number of bits encoded with the variable-length encoding.\n",
        "\n",
        "The *special piece of information* to be compressed is a list of the first ten million primes. This is a list that starts\n",
        "\n",
        "|    |\n",
        "|----|\n",
        "|  2 |\n",
        "|  3 |\n",
        "|  5 |\n",
        "|  7 |\n",
        "| 11 |\n",
        "| 13 |\n",
        "| 17 |\n",
        "| 19 |\n",
        "| 23 |\n",
        "| 29 |\n",
        "\n",
        "  and ends\n",
        "\n",
        "|           |\n",
        "|-----------|\n",
        "| 179424551 |\n",
        "| 179424571 |\n",
        "| 179424577 |\n",
        "| 179424601 |\n",
        "| 179424611 |\n",
        "| 179424617 |\n",
        "| 179424629 |\n",
        "| 179424667 |\n",
        "| 179424671 |\n",
        "| 179424673 |\n",
        "\n",
        "As ASCII text stored in a file with one prime per line, the size of this data file is slightly over 89 megabytes. The goal is to compress this down to just over 5 megabytes (5589056 bytes, to be exact). That's a 94% compression ratio!\n",
        "\n",
        "Standard compression tools can only get about a 73% compression ratio for this ASCII data. A more clever approach is needed. Instead of compressing the list of prime numbers, compress a list of the *gaps* between them!\n",
        "\n",
        "It doesn't save much, just the unique (occurring only once) gap size of 1 between 2 and 3, but in the spirit of de Polignac's conjecture that every *even* number appears infinitely often as a gap between consecutive primes, just consider the even-sized gaps. The result will be a list that starts with 2 (the difference between 5 and 3), 2 (the difference between 7 and 5), 4 (the difference between 11 and 7), 2 (the difference between 13 and 11), 4 (the difference between 17 and 13), 2 (the difference between 19 and 17), 4 (the difference between 23 and 19), and 6 (the difference between 29 and 23).\n",
        "\n",
        "Generating this data is the first task. The algorithm for doing so is very straightforward:\n",
        "\n",
        "1. Find the gaps between consecutive odd primes.\n",
        "2. Store these gaps as a list of even numbers.\n",
        "\n",
        "Tabulating the results, the first ten gaps and the last ten gaps are as follows, where the numbers after the equals signs are the gaps to list:\n",
        "\n",
        "|                 |\n",
        "|-----------------|\n",
        "|  5  -   3  =  2 |\n",
        "|  7  -   5  =  2 |\n",
        "| 11  -   7  =  4 |\n",
        "| 13  -  11  =  2 |\n",
        "| 17  -  13  =  4 |\n",
        "| 19  -  17  =  2 |\n",
        "| 23  -  19  =  4 |\n",
        "| 29  -  23  =  6 |\n",
        "| 31  -  29  =  2 |\n",
        "| 37  -  31  =  6 |\n",
        "\n",
        "|                                |\n",
        "|--------------------------------|\n",
        "| 179424551  -  179424533  =  18 |\n",
        "| 179424571  -  179424551  =  20 |\n",
        "| 179424577  -  179424571  =   6 |\n",
        "| 179424601  -  179424577  =  24 |\n",
        "| 179424611  -  179424601  =  10 |\n",
        "| 179424617  -  179424611  =   6 |\n",
        "| 179424629  -  179424617  =  12 |\n",
        "| 179424667  -  179424629  =  38 |\n",
        "| 179424671  -  179424667  =   4 |\n",
        "| 179424673  -  179424671  =   2 |\n",
        "\n",
        "As a correctness check, see if your generated list of gaps has length 9999998.\n",
        "\n",
        "The next step is to count how many times each gap size occurs, so that for the Huffman encoding scheme, the larger the frequency of occurrence, the smaller the number of bits encoding that gap size.\n",
        "\n",
        "As a correctness check, here are the first ten and the last ten gap counts:\n",
        "\n",
        "|  Gap | Count   |\n",
        "|------|---------|\n",
        "|    2 |  738597 |\n",
        "|    4 |  738717 |\n",
        "|    6 | 1297540 |\n",
        "|    8 |  566151 |\n",
        "|   10 |  729808 |\n",
        "|   12 |  920661 |\n",
        "|   14 |  503524 |\n",
        "|   16 |  371677 |\n",
        "|   18 |  667734 |\n",
        "|   20 |  354267 |\n",
        "|      |         |\n",
        "|  190 |       1 |\n",
        "|  192 |       3 |\n",
        "|  194 |       1 |\n",
        "|  196 |       1 |\n",
        "|  198 |       6 |\n",
        "|  202 |       2 |\n",
        "|  204 |       3 |\n",
        "|  210 |       4 |\n",
        "|  220 |       1 |\n",
        "|  222 |       1 |\n",
        "\n",
        "Note two things from these partial gap counts:\n",
        "\n",
        "1. Small even numbers (< 100) are well represented, larger ones (< 1000) less so.\n",
        "2. Ten million primes aren't enough to have *every* even number represented; for example, 200, 206, 208, 212, 214, 216, and 218 do not appear even once.\n"
      ]
    },
    {
      "cell_type": "markdown",
      "metadata": {
        "id": "7CUIw8_k03JJ"
      },
      "source": [
        "# DONE Determine Exact Size of Data to be Compressed\n"
      ]
    },
    {
      "cell_type": "markdown",
      "metadata": {
        "id": "wB4sXf0X09Gv"
      },
      "source": [
        "Without actually doing it, imagine creating an ASCII file containing the first ten million primes, represented in decimal, one prime per line. Calculate the size of this file, so you can show an exceptional compression ratio from it (see below).\n",
        "\n",
        "Using a binary encoding instead of ASCII, each prime requires 32 bits (4 bytes), so the size of a binary file is easily determined.\n",
        "\n",
        "Using a fixed-width encoding of the gap counts, however, requires knowing how many different gap sizes there are, after which the calculation is straightforward.\n",
        "\n",
        "Answer\n",
        "\n",
        "The below code calculates that the ASCII file of 10,000,000 primes would be about 93 MB. That's a bit more than is said up above, but it's pretty close.\n",
        "\n",
        "The binary file would just be 40 MB because each number is simply 4 bytes."
      ]
    },
    {
      "cell_type": "code",
      "metadata": {
        "id": "wtNatT8zm2Bi",
        "colab": {
          "base_uri": "https://localhost:8080/"
        },
        "outputId": "b37a2fec-faa4-4a0f-fa65-ee8ef3f7deb2"
      },
      "source": [
        "#!pip install pyprimesieve\r\n",
        "import pyprimesieve\r\n",
        "tmp = pyprimesieve.primes_nth(10000000)\r\n",
        "primes = pyprimesieve.primes(tmp+1)\r\n",
        "fileLength = 0\r\n",
        "for prime in primes:\r\n",
        "  prime = str(prime)\r\n",
        "  fileLength += len(prime) + 1\r\n",
        "\r\n",
        "print(fileLength)\r\n",
        "\r\n"
      ],
      "execution_count": 2,
      "outputs": [
        {
          "output_type": "stream",
          "text": [
            "93484450\n"
          ],
          "name": "stdout"
        }
      ]
    },
    {
      "cell_type": "markdown",
      "metadata": {
        "id": "9HZChUyC09tJ"
      },
      "source": [
        "# DONE Use Functional Python\n"
      ]
    },
    {
      "cell_type": "markdown",
      "metadata": {
        "id": "j7vG1XqY1CaV"
      },
      "source": [
        "You are encouraged to use the [anytree](https://pypi.org/project/anytree) Python library, which has a nice exporter by way of which you can graphically view trees. (You may recall using this in DM1, and thus know that **anytree** depends on [graphviz](https://graphviz.org), which you also used.)\n",
        "\n",
        "This library uses the object-oriented features of Python to create and visualize trees. You are encouraged to use the functional features of Python as much as possible, achieving your results not by using some existing third-party libraries for building Huffman Trees and Codes, but writing your own code as cleanly and elegantly as you can."
      ]
    },
    {
      "cell_type": "code",
      "metadata": {
        "colab": {
          "base_uri": "https://localhost:8080/"
        },
        "id": "HtYwr3uOv718",
        "outputId": "cce0a4cd-4eb7-4e76-a3b9-bc1e4bd2c3ac"
      },
      "source": [
        "!pip install anytree"
      ],
      "execution_count": 3,
      "outputs": [
        {
          "output_type": "stream",
          "text": [
            "Collecting anytree\n",
            "\u001b[?25l  Downloading https://files.pythonhosted.org/packages/a8/65/be23d8c3ecd68d40541d49812cd94ed0f3ee37eb88669ca15df0e43daed1/anytree-2.8.0-py2.py3-none-any.whl (41kB)\n",
            "\r\u001b[K     |███████▉                        | 10kB 13.7MB/s eta 0:00:01\r\u001b[K     |███████████████▊                | 20kB 18.6MB/s eta 0:00:01\r\u001b[K     |███████████████████████▋        | 30kB 10.8MB/s eta 0:00:01\r\u001b[K     |███████████████████████████████▍| 40kB 8.6MB/s eta 0:00:01\r\u001b[K     |████████████████████████████████| 51kB 2.7MB/s \n",
            "\u001b[?25hRequirement already satisfied: six>=1.9.0 in /usr/local/lib/python3.7/dist-packages (from anytree) (1.15.0)\n",
            "Installing collected packages: anytree\n",
            "Successfully installed anytree-2.8.0\n"
          ],
          "name": "stdout"
        }
      ]
    },
    {
      "cell_type": "markdown",
      "metadata": {
        "id": "TUB4mD8u1DCa"
      },
      "source": [
        "# TODO Achieve Target Compression Ratios"
      ]
    },
    {
      "cell_type": "markdown",
      "metadata": {
        "id": "8Vw71EqJ18eE"
      },
      "source": [
        "Your solution should correctly compute the following three compression ratios:\n",
        "\n",
        "| Ratio       | Value              |\n",
        "|-------------|--------------------|\n",
        "| From fixed  | 36.125168653605158 |\n",
        "| From binary |              86.03 |\n",
        "| From ASCII  |              94.02 | \n",
        "\n",
        "The below code shows my best shot at this. It doesn't give the right answer, but it does give an answer. It took my a long time to write this code, and I'm not sure why I'm not getting the same answer.\n"
      ]
    },
    {
      "cell_type": "code",
      "metadata": {
        "colab": {
          "base_uri": "https://localhost:8080/"
        },
        "id": "PX8DjvfDwH2J",
        "outputId": "17590e06-3610-4691-df20-5b6c9c684222"
      },
      "source": [
        "from anytree import Node, RenderTree, LevelOrderGroupIter\r\n",
        "from collections import Counter\r\n",
        "from math import ceil, log\r\n",
        "\r\n",
        "def show_results(message, code_tuples):\r\n",
        "  total_characters = len(message)\r\n",
        "  total_unique_characters = len(code_tuples)\r\n",
        "  total_bits = 0\r\n",
        "  for char, count, code in code_tuples:\r\n",
        "    total_bits += count * len(code)\r\n",
        "  average_bits_per_character = total_bits / total_characters\r\n",
        "  fixed_bits_per_character = ceil(log(total_unique_characters, 2))\r\n",
        "  total_fixed_bits = total_characters * fixed_bits_per_character\r\n",
        "  compression_ratio = (total_fixed_bits - total_bits) / total_fixed_bits\r\n",
        "  print(f'          Total Characters: {total_characters}')\r\n",
        "  print(f'   Total Unique Characters: {total_unique_characters}')\r\n",
        "  print(f'                Total Bits: {total_bits}')\r\n",
        "  print(f'Average Bits per Character: {average_bits_per_character:.2f}')\r\n",
        "  print(f'  Fixed Bits per Character: {fixed_bits_per_character}')\r\n",
        "  print(f'          Total Fixed Bits: {total_fixed_bits}')\r\n",
        "  print(f'         Compression Ratio: {compression_ratio:.3f}')\r\n",
        "\r\n",
        "tmp = pyprimesieve.primes_nth(10000000)\r\n",
        "primes = pyprimesieve.primes(tmp+1)\r\n",
        "primes_string = ''\r\n",
        "for prime in primes:\r\n",
        " primes_string += str(prime) + ' '\r\n",
        "gaps = [*map(lambda i:primes[i]-primes[i-1],range(1,10000000))]\r\n",
        "\r\n",
        "gapsString = ''\r\n",
        "for gap in gaps:\r\n",
        "  gapsString += str(gap) + ' '\r\n",
        "\r\n",
        "counterGaps = Counter(gapsString)\r\n",
        "print(counterGaps)"
      ],
      "execution_count": 74,
      "outputs": [
        {
          "output_type": "stream",
          "text": [
            "Counter({' ': 9999999, '2': 3890666, '1': 3212887, '4': 2479713, '6': 2354475, '0': 1745468, '8': 1741680, '3': 953233, '5': 215614, '7': 64336, '9': 16760})\n"
          ],
          "name": "stdout"
        }
      ]
    },
    {
      "cell_type": "code",
      "metadata": {
        "colab": {
          "base_uri": "https://localhost:8080/"
        },
        "id": "kubI1tp-zJOl",
        "outputId": "f5d074fa-8d17-4112-e741-edfaa3beeec9"
      },
      "source": [
        "gap_leaves = []\r\n",
        "for count in counterGaps.most_common():\r\n",
        "  gap_leaves.append(Node(count[0], num=count[1], code=''))\r\n",
        "  print(gap_leaves[-1].num)"
      ],
      "execution_count": 64,
      "outputs": [
        {
          "output_type": "stream",
          "text": [
            "9999999\n",
            "3890666\n",
            "3212887\n",
            "2479713\n",
            "2354475\n",
            "1745468\n",
            "1741680\n",
            "953233\n",
            "215614\n",
            "64336\n",
            "16760\n"
          ],
          "name": "stdout"
        }
      ]
    },
    {
      "cell_type": "code",
      "metadata": {
        "colab": {
          "base_uri": "https://localhost:8080/"
        },
        "id": "MUa-HVSJ09Sd",
        "outputId": "fe3bda92-499d-4888-924b-1e334eab879c"
      },
      "source": [
        "def nodeNum(node):\r\n",
        "  return node.num\r\n",
        "gap_leaves.sort(key=nodeNum)\r\n",
        "gap_nodes = gap_leaves.copy()\r\n",
        "\r\n",
        "while(len(gap_nodes) > 1):\r\n",
        "  newNode = Node(gap_nodes[0].name + gap_nodes[1].name, num=(gap_nodes[0].num + gap_nodes[1].num), code='', children=gap_nodes[:2])\r\n",
        "  gap_nodes[0].parent = newNode\r\n",
        "  print(gap_nodes[0].parent)\r\n",
        "  gap_nodes[1].parent = newNode\r\n",
        "  #print(RenderTree(newNode))\r\n",
        "  gap_nodes.pop(0)\r\n",
        "  gap_nodes.pop(0)\r\n",
        "  gap_nodes.append(newNode)\r\n",
        "  gap_nodes.sort(key=nodeNum)\r\n",
        "\r\n",
        "print(RenderTree(gap_nodes[0]))\r\n"
      ],
      "execution_count": 65,
      "outputs": [
        {
          "output_type": "stream",
          "text": [
            "Node('/97', code='', num=81096)\n",
            "Node('/975', code='', num=296710)\n",
            "Node('/9753', code='', num=1249943)\n",
            "Node('/97538', code='', num=2991623)\n",
            "Node('/06', code='', num=4099943)\n",
            "Node('/497538', code='', num=5471336)\n",
            "Node('/12', code='', num=7103553)\n",
            "Node('/06497538', code='', num=9571279)\n",
            "Node('/1206497538', code='', num=16674832)\n",
            "Node('/ 1206497538', code='', num=26674831)\n",
            "Node('/ 1206497538', code='', num=26674831)\n",
            "├── Node('/ 1206497538/ ', code='', num=9999999)\n",
            "└── Node('/ 1206497538/1206497538', code='', num=16674832)\n",
            "    ├── Node('/ 1206497538/1206497538/12', code='', num=7103553)\n",
            "    │   ├── Node('/ 1206497538/1206497538/12/1', code='', num=3212887)\n",
            "    │   └── Node('/ 1206497538/1206497538/12/2', code='', num=3890666)\n",
            "    └── Node('/ 1206497538/1206497538/06497538', code='', num=9571279)\n",
            "        ├── Node('/ 1206497538/1206497538/06497538/06', code='', num=4099943)\n",
            "        │   ├── Node('/ 1206497538/1206497538/06497538/06/0', code='', num=1745468)\n",
            "        │   └── Node('/ 1206497538/1206497538/06497538/06/6', code='', num=2354475)\n",
            "        └── Node('/ 1206497538/1206497538/06497538/497538', code='', num=5471336)\n",
            "            ├── Node('/ 1206497538/1206497538/06497538/497538/4', code='', num=2479713)\n",
            "            └── Node('/ 1206497538/1206497538/06497538/497538/97538', code='', num=2991623)\n",
            "                ├── Node('/ 1206497538/1206497538/06497538/497538/97538/9753', code='', num=1249943)\n",
            "                │   ├── Node('/ 1206497538/1206497538/06497538/497538/97538/9753/975', code='', num=296710)\n",
            "                │   │   ├── Node('/ 1206497538/1206497538/06497538/497538/97538/9753/975/97', code='', num=81096)\n",
            "                │   │   │   ├── Node('/ 1206497538/1206497538/06497538/497538/97538/9753/975/97/9', code='', num=16760)\n",
            "                │   │   │   └── Node('/ 1206497538/1206497538/06497538/497538/97538/9753/975/97/7', code='', num=64336)\n",
            "                │   │   └── Node('/ 1206497538/1206497538/06497538/497538/97538/9753/975/5', code='', num=215614)\n",
            "                │   └── Node('/ 1206497538/1206497538/06497538/497538/97538/9753/3', code='', num=953233)\n",
            "                └── Node('/ 1206497538/1206497538/06497538/497538/97538/8', code='', num=1741680)\n"
          ],
          "name": "stdout"
        }
      ]
    },
    {
      "cell_type": "code",
      "metadata": {
        "colab": {
          "base_uri": "https://localhost:8080/"
        },
        "id": "tSoq8fUh_ojN",
        "outputId": "38a88b52-a792-4337-f2a6-698c7430e08f"
      },
      "source": [
        "for level in LevelOrderGroupIter(gap_nodes[0]):\r\n",
        "  print(level)\r\n",
        "  for i in range(len(level)):\r\n",
        "    level[i].code = (level[i].parent.code if level[i].parent != None else '') + str(i % 2)\r\n",
        "  \r\n",
        "print(gap_leaves)"
      ],
      "execution_count": 67,
      "outputs": [
        {
          "output_type": "stream",
          "text": [
            "(Node('/ 1206497538', code='', num=26674831),)\n",
            "(Node('/ 1206497538/ ', code='', num=9999999), Node('/ 1206497538/1206497538', code='', num=16674832))\n",
            "(Node('/ 1206497538/1206497538/12', code='', num=7103553), Node('/ 1206497538/1206497538/06497538', code='', num=9571279))\n",
            "(Node('/ 1206497538/1206497538/12/1', code='', num=3212887), Node('/ 1206497538/1206497538/12/2', code='', num=3890666), Node('/ 1206497538/1206497538/06497538/06', code='', num=4099943), Node('/ 1206497538/1206497538/06497538/497538', code='', num=5471336))\n",
            "(Node('/ 1206497538/1206497538/06497538/06/0', code='', num=1745468), Node('/ 1206497538/1206497538/06497538/06/6', code='', num=2354475), Node('/ 1206497538/1206497538/06497538/497538/4', code='', num=2479713), Node('/ 1206497538/1206497538/06497538/497538/97538', code='', num=2991623))\n",
            "(Node('/ 1206497538/1206497538/06497538/497538/97538/9753', code='', num=1249943), Node('/ 1206497538/1206497538/06497538/497538/97538/8', code='', num=1741680))\n",
            "(Node('/ 1206497538/1206497538/06497538/497538/97538/9753/975', code='', num=296710), Node('/ 1206497538/1206497538/06497538/497538/97538/9753/3', code='', num=953233))\n",
            "(Node('/ 1206497538/1206497538/06497538/497538/97538/9753/975/97', code='', num=81096), Node('/ 1206497538/1206497538/06497538/497538/97538/9753/975/5', code='', num=215614))\n",
            "(Node('/ 1206497538/1206497538/06497538/497538/97538/9753/975/97/9', code='', num=16760), Node('/ 1206497538/1206497538/06497538/497538/97538/9753/975/97/7', code='', num=64336))\n",
            "[Node('/ 1206497538/1206497538/06497538/497538/97538/9753/975/97/9', code='011110000', num=16760), Node('/ 1206497538/1206497538/06497538/497538/97538/9753/975/97/7', code='011110001', num=64336), Node('/ 1206497538/1206497538/06497538/497538/97538/9753/975/5', code='01111001', num=215614), Node('/ 1206497538/1206497538/06497538/497538/97538/9753/3', code='0111101', num=953233), Node('/ 1206497538/1206497538/06497538/497538/97538/8', code='011111', num=1741680), Node('/ 1206497538/1206497538/06497538/06/0', code='01100', num=1745468), Node('/ 1206497538/1206497538/06497538/06/6', code='01101', num=2354475), Node('/ 1206497538/1206497538/06497538/497538/4', code='01110', num=2479713), Node('/ 1206497538/1206497538/12/1', code='0100', num=3212887), Node('/ 1206497538/1206497538/12/2', code='0101', num=3890666), Node('/ 1206497538/ ', code='00', num=9999999)]\n"
          ],
          "name": "stdout"
        }
      ]
    },
    {
      "cell_type": "code",
      "metadata": {
        "colab": {
          "base_uri": "https://localhost:8080/"
        },
        "id": "_ki78RV7Dfgx",
        "outputId": "0e8617e1-8621-409b-b843-b73614880443"
      },
      "source": [
        "code_tuples = []\r\n",
        "for leaf in gap_leaves:\r\n",
        "  print(leaf.name[-1] + ' : ' + leaf.code)\r\n",
        "  code_tuples.append((leaf.name[-1], leaf.num, leaf.code))"
      ],
      "execution_count": 69,
      "outputs": [
        {
          "output_type": "stream",
          "text": [
            "9 : 011110000\n",
            "7 : 011110001\n",
            "5 : 01111001\n",
            "3 : 0111101\n",
            "8 : 011111\n",
            "0 : 01100\n",
            "6 : 01101\n",
            "4 : 01110\n",
            "1 : 0100\n",
            "2 : 0101\n",
            "  : 00\n"
          ],
          "name": "stdout"
        }
      ]
    },
    {
      "cell_type": "code",
      "metadata": {
        "colab": {
          "base_uri": "https://localhost:8080/"
        },
        "id": "uN6F1dSIEB3F",
        "outputId": "e9897c24-1693-41cf-92c2-118ac020d442"
      },
      "source": [
        "show_results(primes_string, code_tuples)"
      ],
      "execution_count": 75,
      "outputs": [
        {
          "output_type": "stream",
          "text": [
            "          Total Characters: 93484450\n",
            "   Total Unique Characters: 11\n",
            "                Total Bits: 100889977\n",
            "Average Bits per Character: 1.08\n",
            "  Fixed Bits per Character: 4\n",
            "          Total Fixed Bits: 373937800\n",
            "         Compression Ratio: 0.730\n"
          ],
          "name": "stdout"
        }
      ]
    },
    {
      "cell_type": "markdown",
      "metadata": {
        "id": "81dbKwHenxnT"
      },
      "source": [
        "# TODO My Report on What I Did and What I Learned"
      ]
    },
    {
      "cell_type": "markdown",
      "metadata": {
        "id": "C8BeiIern33B"
      },
      "source": [
        "## Fun\n"
      ]
    },
    {
      "cell_type": "markdown",
      "metadata": {
        "id": "ElukRLoezyxd"
      },
      "source": [
        "I would say this has been a fun Ponder and Prove. I spent my first hour working with Alex, and that went well. We were both kind of confused, but we helped each other get started. I had fun learning more about trees and how to code them in Python. It was a good challange."
      ]
    },
    {
      "cell_type": "markdown",
      "metadata": {
        "id": "OzOkZ3son-u9"
      },
      "source": [
        "## New"
      ]
    },
    {
      "cell_type": "markdown",
      "metadata": {
        "id": "3-nYIdEUz4x5"
      },
      "source": [
        "I learned a lot about coding with Anytree. It was fun learning how to make code that would find Huffman trees. I started with no idea what I was doing, but now I have some idea of what I did."
      ]
    },
    {
      "cell_type": "markdown",
      "metadata": {
        "id": "mJHvoj6GokaZ"
      },
      "source": [
        "## Meaningful\n"
      ]
    },
    {
      "cell_type": "markdown",
      "metadata": {
        "id": "XOxh3XFTz-6N"
      },
      "source": [
        "I could build upon my know knowledge of coding with trees in Python. They are a useful data structure. I'm sure I'll use them again."
      ]
    },
    {
      "cell_type": "markdown",
      "metadata": {
        "id": "_RBE03fhpNUG"
      },
      "source": [
        "## Other"
      ]
    },
    {
      "cell_type": "markdown",
      "metadata": {
        "id": "d-sXEeq60C3W"
      },
      "source": [
        "I worked with Alex Vasiuk for the first part of this. We would have worked more together, but he ran out of time. It's been a good experience. I shared some code with him too.\r\n",
        "\r\n",
        "Also, I just realized that I didn't do this quite right. I was supposed to code each of the number values in the gap sizes, not the digits. That's my bad. I see why I'm not getting the same values."
      ]
    },
    {
      "cell_type": "markdown",
      "metadata": {
        "id": "Nrk-8EmgW4NP"
      },
      "source": [
        "# TODO What is True?\n",
        "Click on each warranted checkbox to toggle it to True (or back to False). \n",
        "\n",
        "NOTE: *This only works in Colab. If you run it in some other Jupyter notebook client/server environment you may have to change False to True (or vice versa) manually.*\n",
        "\n",
        "This self-assessment is subject to revision by a grader."
      ]
    },
    {
      "cell_type": "code",
      "metadata": {
        "id": "qGAjzgVRXR4M"
      },
      "source": [
        "#@markdown ## What is True about what I did?\n",
        "#@markdown ### I had fun.\n",
        "cb00 = True #@param {type:'boolean'}\n",
        "#@markdown ### I learned something new.\n",
        "cb01 = True #@param {type:'boolean'}\n",
        "#@markdown ### I achieved something meaningful, or something I can build upon at a later time.\n",
        "cb02 = True #@param {type:'boolean'}\n",
        "#@markdown ## What is True about my report?\n",
        "#@markdown ### I wrote a sufficient number of well-written sentences.\n",
        "cb03 = True #@param {type:'boolean'}\n",
        "#@markdown ### My report is free of mechanical infelicities.\n",
        "cb04 = True #@param {type:'boolean'}\n",
        "#@markdown ### I used Grammarly (or something better described in my report) to check for MIs.\n",
        "cb05 = False #@param {type:'boolean'}\n",
        "#@markdown ### I reported on any connections I found between these problems and something I already know. \n",
        "cb06 = False #@param {type:'boolean'}\n",
        "#@markdown ### I reported who were and what contribution each of my collaborators made.\n",
        "cb07 = True #@param {type:'boolean'}\n",
        "#@markdown ## What is True about my calculations?\n",
        "#@markdown ### I correctly calculated the number of times each gap size occurs. \n",
        "cb08 = True #@param {type:'boolean'}\n",
        "#@markdown ### I correctly calculated the number of bits per gap size with a fixed encoding.\n",
        "cb09 = False #@param {type:'boolean'}\n",
        "#@markdown ### I correctly calculated the total number of bits encoded with the Huffman encoding.\n",
        "cb10 = False #@param {type:'boolean'}\n",
        "#@markdown ### I correctly calculated the total number of bits encoded with the fixed encoding.\n",
        "cb11 = True #@param {type:'boolean'}\n",
        "#@markdown ### I correctly calculated the compression ratio from this fixed encoding.\n",
        "cb12 = False #@param {type:'boolean'}\n",
        "#@markdown ### I correctly calculated the size of the first ten million primes encoded as 32-bit integer binary data.\n",
        "cb13 = True #@param {type:'boolean'}\n",
        "#@markdown ### I correctly calculated the compression ratio from the binary size.\n",
        "cb14 = False #@param {type:'boolean'}\n",
        "#@markdown ### I correctly calculated the size of the first ten million primes encoded as ASCII data.\n",
        "cb15 = True #@param {type:'boolean'}\n",
        "#@markdown ### I correctly calculated the compression ratio from the ASCII size (just the primes, nothing else).\n",
        "cb16 = False #@param {type:'boolean'}"
      ],
      "execution_count": null,
      "outputs": []
    },
    {
      "cell_type": "markdown",
      "metadata": {
        "id": "q8KESLBANSkC"
      },
      "source": [
        "## DO NOT CHANGE ANYTHING IN THE NEXT CODE CELL!!\n",
        "### Delete this cell and the following ones before submitting your work."
      ]
    },
    {
      "cell_type": "code",
      "metadata": {
        "id": "rJ_vaL0DWwoc"
      },
      "source": [
        "points_for_what_I_did = [5]*3\n",
        "points_for_my_report = [8]*5\n",
        "points_for_my_calculations = [5]*9\n",
        "points = points_for_what_I_did + points_for_my_report + points_for_my_calculations\n",
        "# cb is short for checkbox\n",
        "total = sum(map(lambda n, p: p if eval(f'cb{n:02}') else 0,\n",
        "                range(len(points)), points))             \n",
        "total"
      ],
      "execution_count": null,
      "outputs": []
    },
    {
      "cell_type": "markdown",
      "metadata": {
        "id": "muxeYgQQKGEU"
      },
      "source": [
        "# For graders"
      ]
    },
    {
      "cell_type": "code",
      "metadata": {
        "id": "c0ldoieNKMTU"
      },
      "source": [
        "#@markdown ---\n",
        "number_of_MIs_found = 0 #@param {type: 'slider', min: 0, max: 5}\n",
        "#@markdown ---\n"
      ],
      "execution_count": null,
      "outputs": []
    }
  ]
}