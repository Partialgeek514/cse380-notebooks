{
  "nbformat": 4,
  "nbformat_minor": 0,
  "metadata": {
    "kernelspec": {
      "display_name": "Python 3",
      "language": "python",
      "name": "python3"
    },
    "language_info": {
      "codemirror_mode": {
        "name": "ipython",
        "version": 3
      },
      "file_extension": ".py",
      "mimetype": "text/x-python",
      "name": "python",
      "nbconvert_exporter": "python",
      "pygments_lexer": "ipython3",
      "version": "3.9.1-final"
    },
    "colab": {
      "name": "ponder_and_prove_combinatorics_and_probability.ipynb",
      "provenance": [],
      "include_colab_link": true
    }
  },
  "cells": [
    {
      "cell_type": "markdown",
      "metadata": {
        "id": "view-in-github",
        "colab_type": "text"
      },
      "source": [
        "<a href=\"https://colab.research.google.com/github/Partialgeek514/cse380-notebooks/blob/master/ponder_and_prove_combinatorics_and_probability.ipynb\" target=\"_parent\"><img src=\"https://colab.research.google.com/assets/colab-badge.svg\" alt=\"Open In Colab\"/></a>"
      ]
    },
    {
      "cell_type": "markdown",
      "metadata": {
        "id": "GbSdcDlWCy3i"
      },
      "source": [
        "# Ponder and Prove Combinatorics and Probability\n",
        "#### Due: Saturday, 6 February 2021, 11:59 pm."
      ]
    },
    {
      "cell_type": "markdown",
      "metadata": {
        "id": "Vg4dMJFRCy3r"
      },
      "source": [
        "## Conjecture\n",
        "\n",
        "A number-theoretic conjecture of combinatorial significance is the following:\n",
        "\n",
        "$degree2({2n \\choose n}) =$ the \"bits-on count\" (or population count, or Hamming weight) of $n$.\n",
        "\n",
        "$degree2(m)$ is defined as the number (degree, exponent) of 2's in the prime factorization of $m$.\n",
        "\n",
        "In other words, for any $m$, a positive integer, $m = 2^e \\cdot o$ where $o$ is an odd positive integer (could be 1) and $e$ is a natural number, including zero --- which would be the case when $m$ is odd. It's the $e$ that is the $degree2$ of $m$.\n",
        "\n",
        "Another way to state this conjecture is that the number of 1's in the binary expansion of ${2n \\choose n}$ for positive integer $n$ is equal to the number of 2's in the prime factorization of $n$.\n",
        "\n",
        "Your task is to write Python code to test this conjecture for as many positive integers as you can. See the self-assessment for more details.\n",
        "\n",
        "Note: a `bitsoncount` function can be a one-liner in Python: `return bin(x).count('1')`\n",
        "\n",
        "\n",
        "\n",
        "The largest number I was able to verify with the below code was 68,679.\n",
        "\n"
      ]
    },
    {
      "cell_type": "code",
      "metadata": {
        "id": "l7ngP7KUCy3t",
        "outputId": "55928d77-fd1a-4e31-a8d8-05e290271048"
      },
      "source": [
        "import operator as op\n",
        "from functools import reduce\n",
        "#Function taken from https://stackoverflow.com/questions/4941753/is-there-a-math-ncr-function-in-python\n",
        "def ncr(n, r):\n",
        "    r = min(r, n-r)\n",
        "    numer = reduce(op.mul, range(n, n-r, -1), 1)\n",
        "    denom = reduce(op.mul, range(1, r+1), 1)\n",
        "    return numer // denom\n",
        "\n",
        "def numTwos(num):\n",
        "    count = 0\n",
        "    while(num % 2 == 0):\n",
        "        count += 1\n",
        "        num = num // 2 \n",
        "    return count\n",
        "\n",
        "n = 1\n",
        "verified = None\n",
        "try:\n",
        "    while(n > 0):\n",
        "        if (numTwos(ncr(2*n, n)) == bin(n).count('1')):\n",
        "            verified = n\n",
        "        n += 1\n",
        "except KeyboardInterrupt:\n",
        "    print('Highest Verified:', verified)\n",
        "\n"
      ],
      "execution_count": null,
      "outputs": [
        {
          "output_type": "execute_result",
          "data": {
            "text/plain": [
              "\"\\nn = 1\\nverified = None\\ntry:\\n    while(n > 0):\\n        if (numTwos(ncr(2*n, n)) == bin(n).count('1')):\\n            verified = n\\n        n += 1\\nexcept KeyboardInterrupt:\\n    print('Highest Verified:', verified)\\n\""
            ]
          },
          "metadata": {
            "tags": []
          },
          "execution_count": 3
        }
      ]
    },
    {
      "cell_type": "markdown",
      "metadata": {
        "id": "KXAaF6hdCy3w"
      },
      "source": [
        "## Basic Probability Theory Question\n",
        "A dark room contains two barrels. The first barrel is filled with green marbles, the second is filled with a half-and-half mixture of green and blue marbles. So there's a 100% chance of choosing a green marble from the first barrel, and a 50% chance of choosing either color in the second barrel. You reach into one of the barrels (it's dark so you don't know which one) and select a marble at random. It's green. You select another. It's green too. You select a third, a fourth, a fifth, etc. Green each time. What is the *minimum* number of marbles you need to select to *exceed* a probability of 99% that you are picking them out of the all-green barrel? (Note that there are enough marbles so that the answer does not depend on how many marbles are in the second barrel.)\n",
        "\n",
        "If I understand this correctly, then it is assumed that if I were to be picking from the half and half barrel, it would be a 50% chance for picking a green marble every time I pick one. If that's the case, then one possiblity is to find the less than 1% chance of picking green marbles consistently from the half and half barrel. \n",
        "\n",
        "$\\log_{0.5} 0.01 = 6.64...$\n",
        "\n",
        "Rounded up to 7, this means that there is less than a 1% chance that 7 green marbles would be picked in a row from the half and half barrel. I don't think it's quite that simple though. I'm not sure this means that there is a greater than 99% chance that the barrel I'm picking from is the pure green one. And technically speaking, it's no longer a probability after I've picked the barrel and the marbles. It's a hard fact which one I'm picking from, even if it be unknown.\n",
        "\n",
        "Using an Excel spreadsheet from my previous Math 221 class though, I conducted a one proportion z-test on picking 7 green marbles from a barrel, and it gave a P-value of 0.008 for a sample of 7 green marbles from an assumed half and half barrel. Although I'm not entirely confident, 7 is my answer for this question.\n"
      ]
    },
    {
      "cell_type": "markdown",
      "metadata": {
        "id": "fDVkA6FzCy3x"
      },
      "source": [
        "## A Related But Deeper Basic Probability Theory Question\n",
        "Take a deep breath. Suppose Shakespeare's account is accurate and Julius Caesar gasped \"You too, Brutus\" before breathing his last. What is the probability that you just inhaled a molecule that Julius Caesar exhaled in his dying breath?\n",
        "\n",
        "Assume that after more than two thousand years the exhaled molecules are uniformly spread about the world and the vast majority are still free in the atmosphere. Assume further that there are $10^{44}$ molecules of air in the world, and that your inhaled quantity and Caesar's exhaled quantity were each about $2.2 \\times 10^{22}$ molecules.\n",
        "### Hint\n",
        "If a number $x$ is small, then $(1 - x)$ is approximately equal to $e^{-x}$.\n"
      ]
    },
    {
      "cell_type": "code",
      "metadata": {
        "id": "tYrcDZawCy3y"
      },
      "source": [
        "from math import gcd\n",
        "def nCk(n, k):\n",
        "  if k < 0 or k > n:\n",
        "    return 0\n",
        "  else:\n",
        "    result = 1\n",
        "    d = 1\n",
        "    g = 1\n",
        "    m = min(k, n - k)\n",
        "    while (d <= m):\n",
        "      g = gcd(result, d)\n",
        "      result = n * (result // g)\n",
        "      result = (result // (d // g))\n",
        "      n -= 1\n",
        "      d += 1\n",
        "    return result\n",
        "totalCombinations = nCk(10**44, 22 * 10**21)\n",
        "print(totalCombinations - nCk(10**44 - 22 * 10**21) / totalCombinations)"
      ],
      "execution_count": null,
      "outputs": []
    },
    {
      "cell_type": "markdown",
      "metadata": {
        "id": "fK-aTgMmCy3y"
      },
      "source": [
        "The above code is my attemt to solve this problem. Once again though, I'm not sure it will be able to calculate the answer in a reasonable amount of time. The idea is that if I find the total number of molecule combinations that are possible in a breath, and then subtract the number of combinations that don't include any of Ceaser's breath, then I can calculate the percentage of possible breaths that contain his breath.\n",
        "\n",
        "A different attempt I might try is to reduce the numbers by a factor of 21. This will maintain their ratios and status as ints, so the final percentage will be a good estimation."
      ]
    },
    {
      "cell_type": "code",
      "metadata": {
        "id": "fCfgt5XXCy3z",
        "outputId": "8269af43-fe54-416c-d93f-cc72846da3fa"
      },
      "source": [
        "totalCombinations = nCk(10**23, 22)\n",
        "print((totalCombinations - nCk(10**23 - 22, 22)) / totalCombinations)"
      ],
      "execution_count": null,
      "outputs": [
        {
          "output_type": "stream",
          "text": [
            "4.84e-21\n"
          ],
          "name": "stdout"
        }
      ]
    },
    {
      "cell_type": "markdown",
      "metadata": {
        "id": "uKS7Fi8cCy30"
      },
      "source": [
        "My calculation tells me that there is a 0.000000000000000000484% chance of a given breath to contain a molecule exhaled of Ceaser's final breath."
      ]
    },
    {
      "cell_type": "markdown",
      "metadata": {
        "id": "cN3Sl5E-Cy31"
      },
      "source": [
        "## What is True?\n",
        "Assess yourself on how you did using the checkboxes below. Check a box by putting an 'X' in it only if it is warranted.\n"
      ]
    },
    {
      "cell_type": "markdown",
      "metadata": {
        "id": "4RFDaB-MCy33"
      },
      "source": [
        "### What is true of my experience in general?\n",
        "(5 points each, 15 points total)\n",
        "- [x] I had fun.\n",
        "- [x] I learned something new.\n",
        "- [x] I achieved something meaningful, or something I can build upon at a later time."
      ]
    },
    {
      "cell_type": "markdown",
      "metadata": {
        "id": "ME1UEFHlCy34"
      },
      "source": [
        "### What is true of my report on what I learned?\n",
        "(5 points each, 25 points total)\n",
        "- [x] I wrote a sufficient number of well-written sentences.\n",
        "- [x] My report is free of \"mechanical infelicities\" (misspelled words, grammatical errors, punctuation errors, etc.).\n",
        "- [x] I reported on any connections I found between this investigation and something I already know.\n",
        "- [x] I reported who were and what contribution each of my collaborators made.\n",
        "- [ ] I reported on how many numbers I was able to verify with a time/computation budget of 24 hours (in a row).\n"
      ]
    },
    {
      "cell_type": "markdown",
      "metadata": {
        "id": "VS-pu96ZCy35"
      },
      "source": [
        "### What is true about my answers?\n",
        "(15 points each, 60 points total)\n",
        "- [ ] I figured out how to run a Python program continuously for at least 24 hours.\n",
        "- [x] I refrained from printing out anything except the highest number I verified, knowing that printing just slows a program down.\n",
        "- [ ] I got the right answer for the first probability theory question.\n",
        "- [ ] I got the right answer for the second probability theory question.\n"
      ]
    },
    {
      "cell_type": "markdown",
      "metadata": {
        "id": "-A-FGQf2DQHg"
      },
      "source": [
        "# Feedback"
      ]
    },
    {
      "cell_type": "markdown",
      "metadata": {
        "id": "o8D7vubrDV59"
      },
      "source": [
        "Very good job! Be sure to include evidence for every item you check."
      ]
    }
  ]
}