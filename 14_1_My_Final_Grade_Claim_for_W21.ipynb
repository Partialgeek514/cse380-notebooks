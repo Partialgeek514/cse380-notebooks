{
  "nbformat": 4,
  "nbformat_minor": 0,
  "metadata": {
    "colab": {
      "name": "13_5_Wrapping_Up_Week_Thirteen.ipynb",
      "provenance": [],
      "authorship_tag": "ABX9TyPWXSeptXSJvtSEwWz3Rhhs",
      "include_colab_link": true
    },
    "kernelspec": {
      "name": "python3",
      "display_name": "Python 3"
    },
    "language_info": {
      "name": "python"
    }
  },
  "cells": [
    {
      "cell_type": "markdown",
      "metadata": {
        "id": "2xFikt2_Nvsi"
      },
      "source": [
        "# My Final Grade Claim\n",
        "## Winter 2021"
      ]
    }
  ]
}